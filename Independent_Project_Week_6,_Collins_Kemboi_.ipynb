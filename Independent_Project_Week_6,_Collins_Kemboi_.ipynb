{
  "nbformat": 4,
  "nbformat_minor": 0,
  "metadata": {
    "colab": {
      "name": "Independent Project Week 6, Collins Kemboi.",
      "provenance": [],
      "collapsed_sections": [
        "kLG2VTrnTvYL",
        "XecOwPNorl2W",
        "J4wfHZwQrs-t",
        "a9BPYqunry97",
        "7KMRBJ7zr9HD",
        "zSGyg6kWsBUl",
        "iUNbvIvnT7ep",
        "OI3P3YnHUEBk",
        "ckfufNrcUHeH",
        "6XC_g-zKxe-r",
        "FlBMxEDBUc9B",
        "rF2ABPsHUtbZ",
        "vTbdjSrhVIiT",
        "lQ2G4ZPDVOXE",
        "xrmHVMVsVS--",
        "HPQviDmNtta8",
        "qjFHK1CKty7o",
        "HSsicSdvt4Zs"
      ],
      "toc_visible": true,
      "include_colab_link": true
    },
    "kernelspec": {
      "name": "python3",
      "display_name": "Python 3"
    }
  },
  "cells": [
    {
      "cell_type": "markdown",
      "metadata": {
        "id": "view-in-github",
        "colab_type": "text"
      },
      "source": [
        "<a href=\"https://colab.research.google.com/github/Collokd/IP-Week-6-Collins/blob/master/Independent_Project_Week_6%2C_Collins_Kemboi_.ipynb\" target=\"_parent\"><img src=\"https://colab.research.google.com/assets/colab-badge.svg\" alt=\"Open In Colab\"/></a>"
      ]
    },
    {
      "cell_type": "markdown",
      "metadata": {
        "id": "xMxtPsqcTsSH",
        "colab_type": "text"
      },
      "source": [
        "# Supervised Learning with Exploratory Data Analysis_Week_6_IP"
      ]
    },
    {
      "cell_type": "markdown",
      "metadata": {
        "id": "kLG2VTrnTvYL",
        "colab_type": "text"
      },
      "source": [
        "> ## 1. Defining the Question"
      ]
    },
    {
      "cell_type": "markdown",
      "metadata": {
        "id": "XecOwPNorl2W",
        "colab_type": "text"
      },
      "source": [
        "### a) Specifying the Question"
      ]
    },
    {
      "cell_type": "markdown",
      "metadata": {
        "id": "8l3-hBO6bODP",
        "colab_type": "text"
      },
      "source": [
        "Developing a model to determine goals scored by the home team. The modeling will deploy the use of Polynomial and Logistic Regressions."
      ]
    },
    {
      "cell_type": "markdown",
      "metadata": {
        "id": "J4wfHZwQrs-t",
        "colab_type": "text"
      },
      "source": [
        "### b) Defining the Metric for Success\n",
        "1. Developing an accurate model for predicting home goals"
      ]
    },
    {
      "cell_type": "markdown",
      "metadata": {
        "id": "7KMRBJ7zr9HD",
        "colab_type": "text"
      },
      "source": [
        "### d) Recording the Experimental Design"
      ]
    },
    {
      "cell_type": "markdown",
      "metadata": {
        "id": "zSGyg6kWsBUl",
        "colab_type": "text"
      },
      "source": [
        "### e) Data Relevance"
      ]
    },
    {
      "cell_type": "markdown",
      "metadata": {
        "id": "iUNbvIvnT7ep",
        "colab_type": "text"
      },
      "source": [
        "## 2. Reading the Data"
      ]
    },
    {
      "cell_type": "code",
      "metadata": {
        "id": "XJn2KjW-WMlG",
        "colab_type": "code",
        "colab": {}
      },
      "source": [
        "# Loading the necessary libraries\n",
        "# \n",
        "import numpy as np\n",
        "import pandas as pd\n",
        "import matplotlib\n",
        "from matplotlib import pyplot as plt\n",
        "import pandas.util.testing as tm\n",
        "from sklearn import linear_model, datasets\n",
        "from sklearn.model_selection import GridSearchCV\n",
        "\n"
      ],
      "execution_count": 0,
      "outputs": []
    },
    {
      "cell_type": "code",
      "metadata": {
        "id": "aTiLIQIV2G1j",
        "colab_type": "code",
        "colab": {}
      },
      "source": [
        "# Loading the data\n",
        "\n",
        "ranking = pd.read_csv('fifa_ranking.csv')\n",
        "results = pd.read_csv('results.csv')"
      ],
      "execution_count": 0,
      "outputs": []
    },
    {
      "cell_type": "code",
      "metadata": {
        "id": "vjQPzxWH3YxU",
        "colab_type": "code",
        "outputId": "41f1079e-36fb-478e-c133-e4b56f38aa51",
        "colab": {
          "base_uri": "https://localhost:8080/",
          "height": 588
        }
      },
      "source": [
        "# Previewing ranking dataset\n",
        "\n",
        "ranking"
      ],
      "execution_count": 32,
      "outputs": [
        {
          "output_type": "execute_result",
          "data": {
            "text/html": [
              "<div>\n",
              "<style scoped>\n",
              "    .dataframe tbody tr th:only-of-type {\n",
              "        vertical-align: middle;\n",
              "    }\n",
              "\n",
              "    .dataframe tbody tr th {\n",
              "        vertical-align: top;\n",
              "    }\n",
              "\n",
              "    .dataframe thead th {\n",
              "        text-align: right;\n",
              "    }\n",
              "</style>\n",
              "<table border=\"1\" class=\"dataframe\">\n",
              "  <thead>\n",
              "    <tr style=\"text-align: right;\">\n",
              "      <th></th>\n",
              "      <th>rank</th>\n",
              "      <th>country_full</th>\n",
              "      <th>country_abrv</th>\n",
              "      <th>total_points</th>\n",
              "      <th>previous_points</th>\n",
              "      <th>rank_change</th>\n",
              "      <th>cur_year_avg</th>\n",
              "      <th>cur_year_avg_weighted</th>\n",
              "      <th>last_year_avg</th>\n",
              "      <th>last_year_avg_weighted</th>\n",
              "      <th>two_year_ago_avg</th>\n",
              "      <th>two_year_ago_weighted</th>\n",
              "      <th>three_year_ago_avg</th>\n",
              "      <th>three_year_ago_weighted</th>\n",
              "      <th>confederation</th>\n",
              "      <th>rank_date</th>\n",
              "    </tr>\n",
              "  </thead>\n",
              "  <tbody>\n",
              "    <tr>\n",
              "      <th>0</th>\n",
              "      <td>1</td>\n",
              "      <td>Germany</td>\n",
              "      <td>GER</td>\n",
              "      <td>0.0</td>\n",
              "      <td>57</td>\n",
              "      <td>0</td>\n",
              "      <td>0.0</td>\n",
              "      <td>0.0</td>\n",
              "      <td>0.0</td>\n",
              "      <td>0.0</td>\n",
              "      <td>0.0</td>\n",
              "      <td>0.0</td>\n",
              "      <td>0.0</td>\n",
              "      <td>0.0</td>\n",
              "      <td>UEFA</td>\n",
              "      <td>1993-08-08</td>\n",
              "    </tr>\n",
              "    <tr>\n",
              "      <th>1</th>\n",
              "      <td>2</td>\n",
              "      <td>Italy</td>\n",
              "      <td>ITA</td>\n",
              "      <td>0.0</td>\n",
              "      <td>57</td>\n",
              "      <td>0</td>\n",
              "      <td>0.0</td>\n",
              "      <td>0.0</td>\n",
              "      <td>0.0</td>\n",
              "      <td>0.0</td>\n",
              "      <td>0.0</td>\n",
              "      <td>0.0</td>\n",
              "      <td>0.0</td>\n",
              "      <td>0.0</td>\n",
              "      <td>UEFA</td>\n",
              "      <td>1993-08-08</td>\n",
              "    </tr>\n",
              "    <tr>\n",
              "      <th>2</th>\n",
              "      <td>3</td>\n",
              "      <td>Switzerland</td>\n",
              "      <td>SUI</td>\n",
              "      <td>0.0</td>\n",
              "      <td>50</td>\n",
              "      <td>9</td>\n",
              "      <td>0.0</td>\n",
              "      <td>0.0</td>\n",
              "      <td>0.0</td>\n",
              "      <td>0.0</td>\n",
              "      <td>0.0</td>\n",
              "      <td>0.0</td>\n",
              "      <td>0.0</td>\n",
              "      <td>0.0</td>\n",
              "      <td>UEFA</td>\n",
              "      <td>1993-08-08</td>\n",
              "    </tr>\n",
              "    <tr>\n",
              "      <th>3</th>\n",
              "      <td>4</td>\n",
              "      <td>Sweden</td>\n",
              "      <td>SWE</td>\n",
              "      <td>0.0</td>\n",
              "      <td>55</td>\n",
              "      <td>0</td>\n",
              "      <td>0.0</td>\n",
              "      <td>0.0</td>\n",
              "      <td>0.0</td>\n",
              "      <td>0.0</td>\n",
              "      <td>0.0</td>\n",
              "      <td>0.0</td>\n",
              "      <td>0.0</td>\n",
              "      <td>0.0</td>\n",
              "      <td>UEFA</td>\n",
              "      <td>1993-08-08</td>\n",
              "    </tr>\n",
              "    <tr>\n",
              "      <th>4</th>\n",
              "      <td>5</td>\n",
              "      <td>Argentina</td>\n",
              "      <td>ARG</td>\n",
              "      <td>0.0</td>\n",
              "      <td>51</td>\n",
              "      <td>5</td>\n",
              "      <td>0.0</td>\n",
              "      <td>0.0</td>\n",
              "      <td>0.0</td>\n",
              "      <td>0.0</td>\n",
              "      <td>0.0</td>\n",
              "      <td>0.0</td>\n",
              "      <td>0.0</td>\n",
              "      <td>0.0</td>\n",
              "      <td>CONMEBOL</td>\n",
              "      <td>1993-08-08</td>\n",
              "    </tr>\n",
              "    <tr>\n",
              "      <th>...</th>\n",
              "      <td>...</td>\n",
              "      <td>...</td>\n",
              "      <td>...</td>\n",
              "      <td>...</td>\n",
              "      <td>...</td>\n",
              "      <td>...</td>\n",
              "      <td>...</td>\n",
              "      <td>...</td>\n",
              "      <td>...</td>\n",
              "      <td>...</td>\n",
              "      <td>...</td>\n",
              "      <td>...</td>\n",
              "      <td>...</td>\n",
              "      <td>...</td>\n",
              "      <td>...</td>\n",
              "      <td>...</td>\n",
              "    </tr>\n",
              "    <tr>\n",
              "      <th>57788</th>\n",
              "      <td>206</td>\n",
              "      <td>Anguilla</td>\n",
              "      <td>AIA</td>\n",
              "      <td>0.0</td>\n",
              "      <td>0</td>\n",
              "      <td>1</td>\n",
              "      <td>0.0</td>\n",
              "      <td>0.0</td>\n",
              "      <td>0.0</td>\n",
              "      <td>0.0</td>\n",
              "      <td>0.0</td>\n",
              "      <td>0.0</td>\n",
              "      <td>0.0</td>\n",
              "      <td>0.0</td>\n",
              "      <td>CONCACAF</td>\n",
              "      <td>2018-06-07</td>\n",
              "    </tr>\n",
              "    <tr>\n",
              "      <th>57789</th>\n",
              "      <td>206</td>\n",
              "      <td>Bahamas</td>\n",
              "      <td>BAH</td>\n",
              "      <td>0.0</td>\n",
              "      <td>0</td>\n",
              "      <td>1</td>\n",
              "      <td>0.0</td>\n",
              "      <td>0.0</td>\n",
              "      <td>0.0</td>\n",
              "      <td>0.0</td>\n",
              "      <td>0.0</td>\n",
              "      <td>0.0</td>\n",
              "      <td>0.0</td>\n",
              "      <td>0.0</td>\n",
              "      <td>CONCACAF</td>\n",
              "      <td>2018-06-07</td>\n",
              "    </tr>\n",
              "    <tr>\n",
              "      <th>57790</th>\n",
              "      <td>206</td>\n",
              "      <td>Eritrea</td>\n",
              "      <td>ERI</td>\n",
              "      <td>0.0</td>\n",
              "      <td>0</td>\n",
              "      <td>1</td>\n",
              "      <td>0.0</td>\n",
              "      <td>0.0</td>\n",
              "      <td>0.0</td>\n",
              "      <td>0.0</td>\n",
              "      <td>0.0</td>\n",
              "      <td>0.0</td>\n",
              "      <td>0.0</td>\n",
              "      <td>0.0</td>\n",
              "      <td>CAF</td>\n",
              "      <td>2018-06-07</td>\n",
              "    </tr>\n",
              "    <tr>\n",
              "      <th>57791</th>\n",
              "      <td>206</td>\n",
              "      <td>Somalia</td>\n",
              "      <td>SOM</td>\n",
              "      <td>0.0</td>\n",
              "      <td>0</td>\n",
              "      <td>1</td>\n",
              "      <td>0.0</td>\n",
              "      <td>0.0</td>\n",
              "      <td>0.0</td>\n",
              "      <td>0.0</td>\n",
              "      <td>0.0</td>\n",
              "      <td>0.0</td>\n",
              "      <td>0.0</td>\n",
              "      <td>0.0</td>\n",
              "      <td>CAF</td>\n",
              "      <td>2018-06-07</td>\n",
              "    </tr>\n",
              "    <tr>\n",
              "      <th>57792</th>\n",
              "      <td>206</td>\n",
              "      <td>Tonga</td>\n",
              "      <td>TGA</td>\n",
              "      <td>0.0</td>\n",
              "      <td>0</td>\n",
              "      <td>1</td>\n",
              "      <td>0.0</td>\n",
              "      <td>0.0</td>\n",
              "      <td>0.0</td>\n",
              "      <td>0.0</td>\n",
              "      <td>0.0</td>\n",
              "      <td>0.0</td>\n",
              "      <td>0.0</td>\n",
              "      <td>0.0</td>\n",
              "      <td>OFC</td>\n",
              "      <td>2018-06-07</td>\n",
              "    </tr>\n",
              "  </tbody>\n",
              "</table>\n",
              "<p>57793 rows × 16 columns</p>\n",
              "</div>"
            ],
            "text/plain": [
              "       rank country_full  ... confederation   rank_date\n",
              "0         1      Germany  ...          UEFA  1993-08-08\n",
              "1         2        Italy  ...          UEFA  1993-08-08\n",
              "2         3  Switzerland  ...          UEFA  1993-08-08\n",
              "3         4       Sweden  ...          UEFA  1993-08-08\n",
              "4         5    Argentina  ...      CONMEBOL  1993-08-08\n",
              "...     ...          ...  ...           ...         ...\n",
              "57788   206     Anguilla  ...      CONCACAF  2018-06-07\n",
              "57789   206      Bahamas  ...      CONCACAF  2018-06-07\n",
              "57790   206      Eritrea  ...           CAF  2018-06-07\n",
              "57791   206      Somalia  ...           CAF  2018-06-07\n",
              "57792   206        Tonga  ...           OFC  2018-06-07\n",
              "\n",
              "[57793 rows x 16 columns]"
            ]
          },
          "metadata": {
            "tags": []
          },
          "execution_count": 32
        }
      ]
    },
    {
      "cell_type": "code",
      "metadata": {
        "id": "y8ni6fa-4F-X",
        "colab_type": "code",
        "outputId": "26fc5df9-6169-46fb-ce8c-f5c344b55d5a",
        "colab": {
          "base_uri": "https://localhost:8080/",
          "height": 773
        }
      },
      "source": [
        "ranking['country_full'].unique() "
      ],
      "execution_count": 33,
      "outputs": [
        {
          "output_type": "execute_result",
          "data": {
            "text/plain": [
              "array(['Germany', 'Italy', 'Switzerland', 'Sweden', 'Argentina',\n",
              "       'Republic of Ireland', 'Russia', 'Brazil', 'Norway', 'Denmark',\n",
              "       'England', 'France', 'Spain', 'Mexico', 'RCS', 'Netherlands',\n",
              "       'Nigeria', 'Belgium', 'Colombia', 'Poland', 'Romania', 'Uruguay',\n",
              "       'Portugal', 'Cameroon', 'Zambia', 'Egypt', 'Wales', 'USA',\n",
              "       \"Côte d'Ivoire\", 'Scotland', 'Tunisia', 'Greece', 'Morocco',\n",
              "       'Algeria', 'Ecuador', 'Korea Republic', 'Bulgaria', 'Austria',\n",
              "       'Costa Rica', 'Northern Ireland', 'Honduras', 'Hungary', 'Japan',\n",
              "       'Saudi Arabia', 'China PR', 'Canada', 'Finland', 'Ghana', 'Chile',\n",
              "       'Zimbabwe', 'Qatar', 'Australia', 'Iceland', 'IR Iran',\n",
              "       'United Arab Emirates', 'Yugoslavia', 'Iraq', 'Senegal', 'Bolivia',\n",
              "       'Kuwait', 'Korea DPR', 'El Salvador', 'Turkey', 'Gabon', 'Guinea',\n",
              "       'Thailand', 'Paraguay', 'Malawi', 'Israel', 'Peru', 'Zaire',\n",
              "       'Cyprus', 'Singapore', 'Mali', 'Malaysia', 'Bermuda', 'Niger',\n",
              "       'Syria', 'Bahrain', 'New Zealand', 'Madagascar', 'Malta',\n",
              "       'Jamaica', 'Lithuania', 'Trinidad and Tobago', 'Sierra Leone',\n",
              "       'Jordan', 'Kenya', 'Latvia', 'Yemen', 'Tanzania', 'Albania',\n",
              "       'Angola', 'Venezuela', 'Ethiopia', 'Burundi', 'Oman', 'Indonesia',\n",
              "       'Liberia', 'Mozambique', 'Puerto Rico', 'Swaziland', 'Hong Kong',\n",
              "       'Uganda', 'Barbados', 'Myanmar', 'Congo', 'Lebanon',\n",
              "       'South Africa', 'Luxembourg', 'Faroe Islands', 'Guatemala',\n",
              "       'Burkina Faso', 'Togo', 'Suriname', 'Fiji', 'Croatia', 'Estonia',\n",
              "       'San Marino', 'Bangladesh', 'St Vincent and the Grenadines',\n",
              "       'Netherlands Antilles', 'Mauritius', 'Benin', 'Panama', 'Sudan',\n",
              "       'Antigua and Barbuda', 'Slovenia', 'India', 'Belarus', 'Ukraine',\n",
              "       'Vietnam', 'Guinea-Bissau', 'Guyana', 'Botswana', 'St Lucia',\n",
              "       'Tahiti', 'Grenada', 'Haiti', 'Libya', 'Laos', 'Mauritania',\n",
              "       'Cape Verde Islands', 'Solomon Islands', 'Brunei Darussalam',\n",
              "       'Lesotho', 'Dominican Republic', 'Pakistan', 'Nicaragua', 'Cuba',\n",
              "       'Seychelles', 'Central African Republic', 'Gambia', 'Namibia',\n",
              "       'Cayman Islands', 'Nepal', 'Liechtenstein', 'Equatorial Guinea',\n",
              "       'Chinese Taipei', 'Sri Lanka', 'Philippines', 'Chad', 'Vanuatu',\n",
              "       'Aruba', 'Bahamas', 'Maldives', 'Macau', 'Slovakia',\n",
              "       'St Kitts and Nevis', 'Czech Republic', 'Georgia', 'FYR Macedonia',\n",
              "       'Moldova', 'Armenia', 'Azerbaijan', 'Uzbekistan', 'Turkmenistan',\n",
              "       'Kazakhstan', 'Tajikistan', 'Kyrgyz Republic', 'Somalia',\n",
              "       'Djibouti', 'Dominica', 'Rwanda', 'Belize', 'Cambodia',\n",
              "       'Bosnia and Herzegovina', 'Guam', 'Papua New Guinea', 'Tonga',\n",
              "       'Samoa', 'Andorra', 'Cook Islands', 'British Virgin Islands',\n",
              "       'Anguilla', 'São Tomé e Príncipe', 'Eritrea', 'American Samoa',\n",
              "       'Palestine', 'Mongolia', 'Turks and Caicos Islands',\n",
              "       'US Virgin Islands', 'Montserrat', 'Congo DR', 'Bhutan',\n",
              "       'Serbia and Montenegro', 'Afghanistan', 'New Caledonia', 'Serbia',\n",
              "       'Timor-Leste', 'Comoros', 'Montenegro', 'Curaçao', 'South Sudan',\n",
              "       'Kosovo', 'Gibraltar'], dtype=object)"
            ]
          },
          "metadata": {
            "tags": []
          },
          "execution_count": 33
        }
      ]
    },
    {
      "cell_type": "code",
      "metadata": {
        "id": "_V9C1PMm3yDr",
        "colab_type": "code",
        "outputId": "5b970083-59c3-4cd3-a316-59b43df22985",
        "colab": {
          "base_uri": "https://localhost:8080/",
          "height": 400
        }
      },
      "source": [
        "# Previewing results data\n",
        "results"
      ],
      "execution_count": 34,
      "outputs": [
        {
          "output_type": "execute_result",
          "data": {
            "text/html": [
              "<div>\n",
              "<style scoped>\n",
              "    .dataframe tbody tr th:only-of-type {\n",
              "        vertical-align: middle;\n",
              "    }\n",
              "\n",
              "    .dataframe tbody tr th {\n",
              "        vertical-align: top;\n",
              "    }\n",
              "\n",
              "    .dataframe thead th {\n",
              "        text-align: right;\n",
              "    }\n",
              "</style>\n",
              "<table border=\"1\" class=\"dataframe\">\n",
              "  <thead>\n",
              "    <tr style=\"text-align: right;\">\n",
              "      <th></th>\n",
              "      <th>date</th>\n",
              "      <th>home_team</th>\n",
              "      <th>away_team</th>\n",
              "      <th>home_score</th>\n",
              "      <th>away_score</th>\n",
              "      <th>tournament</th>\n",
              "      <th>city</th>\n",
              "      <th>country</th>\n",
              "      <th>neutral</th>\n",
              "    </tr>\n",
              "  </thead>\n",
              "  <tbody>\n",
              "    <tr>\n",
              "      <th>0</th>\n",
              "      <td>1872-11-30</td>\n",
              "      <td>Scotland</td>\n",
              "      <td>England</td>\n",
              "      <td>0</td>\n",
              "      <td>0</td>\n",
              "      <td>Friendly</td>\n",
              "      <td>Glasgow</td>\n",
              "      <td>Scotland</td>\n",
              "      <td>False</td>\n",
              "    </tr>\n",
              "    <tr>\n",
              "      <th>1</th>\n",
              "      <td>1873-03-08</td>\n",
              "      <td>England</td>\n",
              "      <td>Scotland</td>\n",
              "      <td>4</td>\n",
              "      <td>2</td>\n",
              "      <td>Friendly</td>\n",
              "      <td>London</td>\n",
              "      <td>England</td>\n",
              "      <td>False</td>\n",
              "    </tr>\n",
              "    <tr>\n",
              "      <th>2</th>\n",
              "      <td>1874-03-07</td>\n",
              "      <td>Scotland</td>\n",
              "      <td>England</td>\n",
              "      <td>2</td>\n",
              "      <td>1</td>\n",
              "      <td>Friendly</td>\n",
              "      <td>Glasgow</td>\n",
              "      <td>Scotland</td>\n",
              "      <td>False</td>\n",
              "    </tr>\n",
              "    <tr>\n",
              "      <th>3</th>\n",
              "      <td>1875-03-06</td>\n",
              "      <td>England</td>\n",
              "      <td>Scotland</td>\n",
              "      <td>2</td>\n",
              "      <td>2</td>\n",
              "      <td>Friendly</td>\n",
              "      <td>London</td>\n",
              "      <td>England</td>\n",
              "      <td>False</td>\n",
              "    </tr>\n",
              "    <tr>\n",
              "      <th>4</th>\n",
              "      <td>1876-03-04</td>\n",
              "      <td>Scotland</td>\n",
              "      <td>England</td>\n",
              "      <td>3</td>\n",
              "      <td>0</td>\n",
              "      <td>Friendly</td>\n",
              "      <td>Glasgow</td>\n",
              "      <td>Scotland</td>\n",
              "      <td>False</td>\n",
              "    </tr>\n",
              "    <tr>\n",
              "      <th>...</th>\n",
              "      <td>...</td>\n",
              "      <td>...</td>\n",
              "      <td>...</td>\n",
              "      <td>...</td>\n",
              "      <td>...</td>\n",
              "      <td>...</td>\n",
              "      <td>...</td>\n",
              "      <td>...</td>\n",
              "      <td>...</td>\n",
              "    </tr>\n",
              "    <tr>\n",
              "      <th>40834</th>\n",
              "      <td>2019-07-18</td>\n",
              "      <td>American Samoa</td>\n",
              "      <td>Tahiti</td>\n",
              "      <td>8</td>\n",
              "      <td>1</td>\n",
              "      <td>Pacific Games</td>\n",
              "      <td>Apia</td>\n",
              "      <td>Samoa</td>\n",
              "      <td>True</td>\n",
              "    </tr>\n",
              "    <tr>\n",
              "      <th>40835</th>\n",
              "      <td>2019-07-18</td>\n",
              "      <td>Fiji</td>\n",
              "      <td>Solomon Islands</td>\n",
              "      <td>4</td>\n",
              "      <td>4</td>\n",
              "      <td>Pacific Games</td>\n",
              "      <td>Apia</td>\n",
              "      <td>Samoa</td>\n",
              "      <td>True</td>\n",
              "    </tr>\n",
              "    <tr>\n",
              "      <th>40836</th>\n",
              "      <td>2019-07-19</td>\n",
              "      <td>Senegal</td>\n",
              "      <td>Algeria</td>\n",
              "      <td>0</td>\n",
              "      <td>1</td>\n",
              "      <td>African Cup of Nations</td>\n",
              "      <td>Cairo</td>\n",
              "      <td>Egypt</td>\n",
              "      <td>True</td>\n",
              "    </tr>\n",
              "    <tr>\n",
              "      <th>40837</th>\n",
              "      <td>2019-07-19</td>\n",
              "      <td>Tajikistan</td>\n",
              "      <td>North Korea</td>\n",
              "      <td>0</td>\n",
              "      <td>1</td>\n",
              "      <td>Intercontinental Cup</td>\n",
              "      <td>Ahmedabad</td>\n",
              "      <td>India</td>\n",
              "      <td>True</td>\n",
              "    </tr>\n",
              "    <tr>\n",
              "      <th>40838</th>\n",
              "      <td>2019-07-20</td>\n",
              "      <td>Papua New Guinea</td>\n",
              "      <td>Fiji</td>\n",
              "      <td>1</td>\n",
              "      <td>1</td>\n",
              "      <td>Pacific Games</td>\n",
              "      <td>Apia</td>\n",
              "      <td>Samoa</td>\n",
              "      <td>True</td>\n",
              "    </tr>\n",
              "  </tbody>\n",
              "</table>\n",
              "<p>40839 rows × 9 columns</p>\n",
              "</div>"
            ],
            "text/plain": [
              "             date         home_team  ...   country  neutral\n",
              "0      1872-11-30          Scotland  ...  Scotland    False\n",
              "1      1873-03-08           England  ...   England    False\n",
              "2      1874-03-07          Scotland  ...  Scotland    False\n",
              "3      1875-03-06           England  ...   England    False\n",
              "4      1876-03-04          Scotland  ...  Scotland    False\n",
              "...           ...               ...  ...       ...      ...\n",
              "40834  2019-07-18    American Samoa  ...     Samoa     True\n",
              "40835  2019-07-18              Fiji  ...     Samoa     True\n",
              "40836  2019-07-19           Senegal  ...     Egypt     True\n",
              "40837  2019-07-19        Tajikistan  ...     India     True\n",
              "40838  2019-07-20  Papua New Guinea  ...     Samoa     True\n",
              "\n",
              "[40839 rows x 9 columns]"
            ]
          },
          "metadata": {
            "tags": []
          },
          "execution_count": 34
        }
      ]
    },
    {
      "cell_type": "code",
      "metadata": {
        "id": "9KhtuQ4stJRL",
        "colab_type": "code",
        "colab": {}
      },
      "source": [
        "# Renaming rank_date column on ranking dataset to date \n",
        "#\n",
        "\n",
        "ranking.rename(columns = {'rank_date': 'date'}, inplace = True)"
      ],
      "execution_count": 0,
      "outputs": []
    },
    {
      "cell_type": "code",
      "metadata": {
        "id": "jwtzhorO44_R",
        "colab_type": "code",
        "outputId": "5b2433e9-ca87-4c28-e99c-3d51a7674575",
        "colab": {
          "base_uri": "https://localhost:8080/",
          "height": 117
        }
      },
      "source": [
        "ranking.columns # Confirm the change above"
      ],
      "execution_count": 36,
      "outputs": [
        {
          "output_type": "execute_result",
          "data": {
            "text/plain": [
              "Index(['rank', 'country_full', 'country_abrv', 'total_points',\n",
              "       'previous_points', 'rank_change', 'cur_year_avg',\n",
              "       'cur_year_avg_weighted', 'last_year_avg', 'last_year_avg_weighted',\n",
              "       'two_year_ago_avg', 'two_year_ago_weighted', 'three_year_ago_avg',\n",
              "       'three_year_ago_weighted', 'confederation', 'date'],\n",
              "      dtype='object')"
            ]
          },
          "metadata": {
            "tags": []
          },
          "execution_count": 36
        }
      ]
    },
    {
      "cell_type": "code",
      "metadata": {
        "id": "cOyrLQYlqs7a",
        "colab_type": "code",
        "colab": {}
      },
      "source": [
        "# We now merge our two datsets with respect to date\n",
        "\n",
        "data = pd.merge(ranking, results, on='date', how='inner')"
      ],
      "execution_count": 0,
      "outputs": []
    },
    {
      "cell_type": "markdown",
      "metadata": {
        "id": "OI3P3YnHUEBk",
        "colab_type": "text"
      },
      "source": [
        "## 3. Checking the Data"
      ]
    },
    {
      "cell_type": "code",
      "metadata": {
        "id": "X4N6hkt-5Yvf",
        "colab_type": "code",
        "outputId": "5ca3df77-9ef9-438f-bc21-4fef782b61d7",
        "colab": {
          "base_uri": "https://localhost:8080/",
          "height": 348
        }
      },
      "source": [
        "# Previewing our merged dataset\n",
        "\n",
        "data.head()"
      ],
      "execution_count": 38,
      "outputs": [
        {
          "output_type": "execute_result",
          "data": {
            "text/html": [
              "<div>\n",
              "<style scoped>\n",
              "    .dataframe tbody tr th:only-of-type {\n",
              "        vertical-align: middle;\n",
              "    }\n",
              "\n",
              "    .dataframe tbody tr th {\n",
              "        vertical-align: top;\n",
              "    }\n",
              "\n",
              "    .dataframe thead th {\n",
              "        text-align: right;\n",
              "    }\n",
              "</style>\n",
              "<table border=\"1\" class=\"dataframe\">\n",
              "  <thead>\n",
              "    <tr style=\"text-align: right;\">\n",
              "      <th></th>\n",
              "      <th>rank</th>\n",
              "      <th>country_full</th>\n",
              "      <th>country_abrv</th>\n",
              "      <th>total_points</th>\n",
              "      <th>previous_points</th>\n",
              "      <th>rank_change</th>\n",
              "      <th>cur_year_avg</th>\n",
              "      <th>cur_year_avg_weighted</th>\n",
              "      <th>last_year_avg</th>\n",
              "      <th>last_year_avg_weighted</th>\n",
              "      <th>two_year_ago_avg</th>\n",
              "      <th>two_year_ago_weighted</th>\n",
              "      <th>three_year_ago_avg</th>\n",
              "      <th>three_year_ago_weighted</th>\n",
              "      <th>confederation</th>\n",
              "      <th>date</th>\n",
              "      <th>home_team</th>\n",
              "      <th>away_team</th>\n",
              "      <th>home_score</th>\n",
              "      <th>away_score</th>\n",
              "      <th>tournament</th>\n",
              "      <th>city</th>\n",
              "      <th>country</th>\n",
              "      <th>neutral</th>\n",
              "    </tr>\n",
              "  </thead>\n",
              "  <tbody>\n",
              "    <tr>\n",
              "      <th>0</th>\n",
              "      <td>1</td>\n",
              "      <td>Germany</td>\n",
              "      <td>GER</td>\n",
              "      <td>0.0</td>\n",
              "      <td>57</td>\n",
              "      <td>0</td>\n",
              "      <td>0.0</td>\n",
              "      <td>0.0</td>\n",
              "      <td>0.0</td>\n",
              "      <td>0.0</td>\n",
              "      <td>0.0</td>\n",
              "      <td>0.0</td>\n",
              "      <td>0.0</td>\n",
              "      <td>0.0</td>\n",
              "      <td>UEFA</td>\n",
              "      <td>1993-08-08</td>\n",
              "      <td>Bolivia</td>\n",
              "      <td>Uruguay</td>\n",
              "      <td>3</td>\n",
              "      <td>1</td>\n",
              "      <td>FIFA World Cup qualification</td>\n",
              "      <td>La Paz</td>\n",
              "      <td>Bolivia</td>\n",
              "      <td>False</td>\n",
              "    </tr>\n",
              "    <tr>\n",
              "      <th>1</th>\n",
              "      <td>1</td>\n",
              "      <td>Germany</td>\n",
              "      <td>GER</td>\n",
              "      <td>0.0</td>\n",
              "      <td>57</td>\n",
              "      <td>0</td>\n",
              "      <td>0.0</td>\n",
              "      <td>0.0</td>\n",
              "      <td>0.0</td>\n",
              "      <td>0.0</td>\n",
              "      <td>0.0</td>\n",
              "      <td>0.0</td>\n",
              "      <td>0.0</td>\n",
              "      <td>0.0</td>\n",
              "      <td>UEFA</td>\n",
              "      <td>1993-08-08</td>\n",
              "      <td>Brazil</td>\n",
              "      <td>Mexico</td>\n",
              "      <td>1</td>\n",
              "      <td>1</td>\n",
              "      <td>Friendly</td>\n",
              "      <td>Maceió</td>\n",
              "      <td>Brazil</td>\n",
              "      <td>False</td>\n",
              "    </tr>\n",
              "    <tr>\n",
              "      <th>2</th>\n",
              "      <td>1</td>\n",
              "      <td>Germany</td>\n",
              "      <td>GER</td>\n",
              "      <td>0.0</td>\n",
              "      <td>57</td>\n",
              "      <td>0</td>\n",
              "      <td>0.0</td>\n",
              "      <td>0.0</td>\n",
              "      <td>0.0</td>\n",
              "      <td>0.0</td>\n",
              "      <td>0.0</td>\n",
              "      <td>0.0</td>\n",
              "      <td>0.0</td>\n",
              "      <td>0.0</td>\n",
              "      <td>UEFA</td>\n",
              "      <td>1993-08-08</td>\n",
              "      <td>Ecuador</td>\n",
              "      <td>Venezuela</td>\n",
              "      <td>5</td>\n",
              "      <td>0</td>\n",
              "      <td>FIFA World Cup qualification</td>\n",
              "      <td>Quito</td>\n",
              "      <td>Ecuador</td>\n",
              "      <td>False</td>\n",
              "    </tr>\n",
              "    <tr>\n",
              "      <th>3</th>\n",
              "      <td>1</td>\n",
              "      <td>Germany</td>\n",
              "      <td>GER</td>\n",
              "      <td>0.0</td>\n",
              "      <td>57</td>\n",
              "      <td>0</td>\n",
              "      <td>0.0</td>\n",
              "      <td>0.0</td>\n",
              "      <td>0.0</td>\n",
              "      <td>0.0</td>\n",
              "      <td>0.0</td>\n",
              "      <td>0.0</td>\n",
              "      <td>0.0</td>\n",
              "      <td>0.0</td>\n",
              "      <td>UEFA</td>\n",
              "      <td>1993-08-08</td>\n",
              "      <td>Guinea</td>\n",
              "      <td>Sierra Leone</td>\n",
              "      <td>1</td>\n",
              "      <td>0</td>\n",
              "      <td>Friendly</td>\n",
              "      <td>Conakry</td>\n",
              "      <td>Guinea</td>\n",
              "      <td>False</td>\n",
              "    </tr>\n",
              "    <tr>\n",
              "      <th>4</th>\n",
              "      <td>1</td>\n",
              "      <td>Germany</td>\n",
              "      <td>GER</td>\n",
              "      <td>0.0</td>\n",
              "      <td>57</td>\n",
              "      <td>0</td>\n",
              "      <td>0.0</td>\n",
              "      <td>0.0</td>\n",
              "      <td>0.0</td>\n",
              "      <td>0.0</td>\n",
              "      <td>0.0</td>\n",
              "      <td>0.0</td>\n",
              "      <td>0.0</td>\n",
              "      <td>0.0</td>\n",
              "      <td>UEFA</td>\n",
              "      <td>1993-08-08</td>\n",
              "      <td>Paraguay</td>\n",
              "      <td>Argentina</td>\n",
              "      <td>1</td>\n",
              "      <td>3</td>\n",
              "      <td>FIFA World Cup qualification</td>\n",
              "      <td>Asunción</td>\n",
              "      <td>Paraguay</td>\n",
              "      <td>False</td>\n",
              "    </tr>\n",
              "  </tbody>\n",
              "</table>\n",
              "</div>"
            ],
            "text/plain": [
              "   rank country_full country_abrv  ...      city   country  neutral\n",
              "0     1      Germany          GER  ...    La Paz   Bolivia    False\n",
              "1     1      Germany          GER  ...    Maceió    Brazil    False\n",
              "2     1      Germany          GER  ...     Quito   Ecuador    False\n",
              "3     1      Germany          GER  ...   Conakry    Guinea    False\n",
              "4     1      Germany          GER  ...  Asunción  Paraguay    False\n",
              "\n",
              "[5 rows x 24 columns]"
            ]
          },
          "metadata": {
            "tags": []
          },
          "execution_count": 38
        }
      ]
    },
    {
      "cell_type": "code",
      "metadata": {
        "id": "YjSVNwgptHxY",
        "colab_type": "code",
        "outputId": "266bce50-6d1f-44bf-fe13-373d1e7a5868",
        "colab": {
          "base_uri": "https://localhost:8080/",
          "height": 33
        }
      },
      "source": [
        "# Determining the no. of records in our dataset\n",
        "\n",
        "\n",
        "data.shape"
      ],
      "execution_count": 39,
      "outputs": [
        {
          "output_type": "execute_result",
          "data": {
            "text/plain": [
              "(212831, 24)"
            ]
          },
          "metadata": {
            "tags": []
          },
          "execution_count": 39
        }
      ]
    },
    {
      "cell_type": "code",
      "metadata": {
        "id": "n8-dW4sQWzbc",
        "colab_type": "code",
        "outputId": "9819b7db-88bf-452d-dacc-1262434ff002",
        "colab": {
          "base_uri": "https://localhost:8080/",
          "height": 537
        }
      },
      "source": [
        "# Checking details on our dataset data\n",
        "#\n",
        "\n",
        "data.info()"
      ],
      "execution_count": 40,
      "outputs": [
        {
          "output_type": "stream",
          "text": [
            "<class 'pandas.core.frame.DataFrame'>\n",
            "Int64Index: 212831 entries, 0 to 212830\n",
            "Data columns (total 24 columns):\n",
            " #   Column                   Non-Null Count   Dtype  \n",
            "---  ------                   --------------   -----  \n",
            " 0   rank                     212831 non-null  int64  \n",
            " 1   country_full             212831 non-null  object \n",
            " 2   country_abrv             212831 non-null  object \n",
            " 3   total_points             212831 non-null  float64\n",
            " 4   previous_points          212831 non-null  int64  \n",
            " 5   rank_change              212831 non-null  int64  \n",
            " 6   cur_year_avg             212831 non-null  float64\n",
            " 7   cur_year_avg_weighted    212831 non-null  float64\n",
            " 8   last_year_avg            212831 non-null  float64\n",
            " 9   last_year_avg_weighted   212831 non-null  float64\n",
            " 10  two_year_ago_avg         212831 non-null  float64\n",
            " 11  two_year_ago_weighted    212831 non-null  float64\n",
            " 12  three_year_ago_avg       212831 non-null  float64\n",
            " 13  three_year_ago_weighted  212831 non-null  float64\n",
            " 14  confederation            212831 non-null  object \n",
            " 15  date                     212831 non-null  object \n",
            " 16  home_team                212831 non-null  object \n",
            " 17  away_team                212831 non-null  object \n",
            " 18  home_score               212831 non-null  int64  \n",
            " 19  away_score               212831 non-null  int64  \n",
            " 20  tournament               212831 non-null  object \n",
            " 21  city                     212831 non-null  object \n",
            " 22  country                  212831 non-null  object \n",
            " 23  neutral                  212831 non-null  bool   \n",
            "dtypes: bool(1), float64(9), int64(5), object(9)\n",
            "memory usage: 39.2+ MB\n"
          ],
          "name": "stdout"
        }
      ]
    },
    {
      "cell_type": "markdown",
      "metadata": {
        "id": "ckfufNrcUHeH",
        "colab_type": "text"
      },
      "source": [
        "## 4. External Data Source Validation"
      ]
    },
    {
      "cell_type": "markdown",
      "metadata": {
        "id": "6XC_g-zKxe-r",
        "colab_type": "text"
      },
      "source": [
        "### a.Validation"
      ]
    },
    {
      "cell_type": "markdown",
      "metadata": {
        "id": "FlBMxEDBUc9B",
        "colab_type": "text"
      },
      "source": [
        "## 5. Tidying the Dataset"
      ]
    },
    {
      "cell_type": "code",
      "metadata": {
        "id": "DN4SNsr5u1w9",
        "colab_type": "code",
        "outputId": "9b4fe28c-8e64-41c7-ac69-fbf27476d9a2",
        "colab": {
          "base_uri": "https://localhost:8080/",
          "height": 151
        }
      },
      "source": [
        "# Previewing columns on our dataset\n",
        "#\n",
        "data.columns"
      ],
      "execution_count": 41,
      "outputs": [
        {
          "output_type": "execute_result",
          "data": {
            "text/plain": [
              "Index(['rank', 'country_full', 'country_abrv', 'total_points',\n",
              "       'previous_points', 'rank_change', 'cur_year_avg',\n",
              "       'cur_year_avg_weighted', 'last_year_avg', 'last_year_avg_weighted',\n",
              "       'two_year_ago_avg', 'two_year_ago_weighted', 'three_year_ago_avg',\n",
              "       'three_year_ago_weighted', 'confederation', 'date', 'home_team',\n",
              "       'away_team', 'home_score', 'away_score', 'tournament', 'city',\n",
              "       'country', 'neutral'],\n",
              "      dtype='object')"
            ]
          },
          "metadata": {
            "tags": []
          },
          "execution_count": 41
        }
      ]
    },
    {
      "cell_type": "code",
      "metadata": {
        "id": "5o_bQcT5W3Wz",
        "colab_type": "code",
        "outputId": "6dcc099c-6c75-4872-c154-f2a8ec04d67c",
        "colab": {
          "base_uri": "https://localhost:8080/",
          "height": 986
        }
      },
      "source": [
        "# Checking for Outliers\n",
        "#\n",
        "import seaborn as sns\n",
        "\n",
        "fig, ((ax1, ax2), (ax3, ax4),(ax5, ax6), (ax7, ax8), (ax9, ax10), (ax11, ax12), (ax13, ax14)) = plt.subplots(7,2, figsize=(15, 15))\n",
        "fig.suptitle('Boxplots')\n",
        "\n",
        "sns.boxplot(data['rank'], ax=ax1)\n",
        "sns.boxplot(data['total_points'], ax=ax2)\n",
        "sns.boxplot(data['previous_points'], ax=ax3)\n",
        "sns.boxplot(data['rank_change'], ax=ax4)\n",
        "sns.boxplot(data['cur_year_avg'], ax=ax5)\n",
        "sns.boxplot(data['cur_year_avg_weighted'], ax=ax6)\n",
        "sns.boxplot(data['last_year_avg'], ax=ax7)\n",
        "sns.boxplot(data['last_year_avg_weighted'], ax=ax8)\n",
        "sns.boxplot(data['two_year_ago_avg'], ax=ax9)\n",
        "sns.boxplot(data['two_year_ago_weighted'], ax=ax10)\n",
        "sns.boxplot(data['three_year_ago_avg'], ax=ax11)\n",
        "sns.boxplot(data['three_year_ago_weighted'], ax=ax12)\n",
        "sns.boxplot(data['home_score'], ax=ax13)\n",
        "sns.boxplot(data['away_score'], ax=ax14)\n",
        "plt.show()"
      ],
      "execution_count": 42,
      "outputs": [
        {
          "output_type": "display_data",
          "data": {
            "image/png": "[encoded data removed]",
            "text/plain": [
              "<Figure size 1080x1080 with 14 Axes>"
            ]
          },
          "metadata": {
            "tags": [],
            "needs_background": "light"
          }
        }
      ]
    },
    {
      "cell_type": "code",
      "metadata": {
        "id": "PWlukLKUvFQN",
        "colab_type": "code",
        "outputId": "9f977738-7c72-46c2-e1ac-e3ca5bab335d",
        "colab": {
          "base_uri": "https://localhost:8080/",
          "height": 134
        }
      },
      "source": [
        "# Identifying Outliers on our dataset using Z-test\n",
        "#\n",
        "numeric = data[['rank','total_points','previous_points','rank_change','cur_year_avg','cur_year_avg_weighted','last_year_avg',\n",
        "                    'last_year_avg','last_year_avg_weighted','two_year_ago_avg','two_year_ago_weighted',\n",
        "                    'three_year_ago_avg','three_year_ago_weighted','home_score','away_score']]\n",
        "\n",
        "from scipy import stats\n",
        "z = np.abs(stats.zscore(numeric))\n",
        "print(z)\n"
      ],
      "execution_count": 43,
      "outputs": [
        {
          "output_type": "stream",
          "text": [
            "[[1.71993775 0.25987631 0.96321448 ... 0.24562647 0.66897049 0.03739112]\n",
            " [1.71993775 0.25987631 0.96321448 ... 0.24562647 0.34624341 0.03739112]\n",
            " [1.71993775 0.25987631 0.96321448 ... 0.24562647 1.68418439 0.83239512]\n",
            " ...\n",
            " [1.77567766 0.25987631 1.15638182 ... 0.24562647 1.17657744 0.83239512]\n",
            " [1.77567766 0.25987631 1.15638182 ... 0.24562647 0.66897049 0.75761288]\n",
            " [1.77567766 0.25987631 1.15638182 ... 0.24562647 1.17657744 0.75761288]]\n"
          ],
          "name": "stdout"
        }
      ]
    },
    {
      "cell_type": "code",
      "metadata": {
        "id": "ORYJzjeX4Elr",
        "colab_type": "code",
        "outputId": "d3b0d0e8-c5ea-46b2-ba72-349857a21c25",
        "colab": {
          "base_uri": "https://localhost:8080/",
          "height": 50
        }
      },
      "source": [
        "# Dropping outliers identified\n",
        "new_df= numeric[(z < 3).all(axis=1)]\n",
        "print(f\"Previous dataframe size : {numeric.shape[0]}\")\n",
        "print(f\"New dataframe size: {new_df.shape[0]}\")"
      ],
      "execution_count": 44,
      "outputs": [
        {
          "output_type": "stream",
          "text": [
            "Previous dataframe size : 212831\n",
            "New dataframe size: 190808\n"
          ],
          "name": "stdout"
        }
      ]
    },
    {
      "cell_type": "code",
      "metadata": {
        "id": "PvCYb6dgW4yh",
        "colab_type": "code",
        "outputId": "0052e090-ebf1-4bfd-bf1a-04dc85622627",
        "colab": {
          "base_uri": "https://localhost:8080/",
          "height": 436
        }
      },
      "source": [
        "# Checking total missing data from our combined datafram\n",
        "#\n",
        "\n",
        "data.isnull().sum()\n",
        "\n",
        "\n",
        "# There are no missing values from our dataset\n"
      ],
      "execution_count": 45,
      "outputs": [
        {
          "output_type": "execute_result",
          "data": {
            "text/plain": [
              "rank                       0\n",
              "country_full               0\n",
              "country_abrv               0\n",
              "total_points               0\n",
              "previous_points            0\n",
              "rank_change                0\n",
              "cur_year_avg               0\n",
              "cur_year_avg_weighted      0\n",
              "last_year_avg              0\n",
              "last_year_avg_weighted     0\n",
              "two_year_ago_avg           0\n",
              "two_year_ago_weighted      0\n",
              "three_year_ago_avg         0\n",
              "three_year_ago_weighted    0\n",
              "confederation              0\n",
              "date                       0\n",
              "home_team                  0\n",
              "away_team                  0\n",
              "home_score                 0\n",
              "away_score                 0\n",
              "tournament                 0\n",
              "city                       0\n",
              "country                    0\n",
              "neutral                    0\n",
              "dtype: int64"
            ]
          },
          "metadata": {
            "tags": []
          },
          "execution_count": 45
        }
      ]
    },
    {
      "cell_type": "code",
      "metadata": {
        "id": "D-4I__6Os4C5",
        "colab_type": "code",
        "outputId": "b4e33308-723b-4fd6-a7e2-24bfeb032c4b",
        "colab": {
          "base_uri": "https://localhost:8080/",
          "height": 252
        }
      },
      "source": [
        "\n",
        "# checking for duplicates\n",
        "\n",
        "print(data.duplicated())\n",
        "print('**************************************************************')\n",
        "data.duplicated().sum()"
      ],
      "execution_count": 46,
      "outputs": [
        {
          "output_type": "stream",
          "text": [
            "0         False\n",
            "1         False\n",
            "2         False\n",
            "3         False\n",
            "4         False\n",
            "          ...  \n",
            "212826    False\n",
            "212827    False\n",
            "212828    False\n",
            "212829    False\n",
            "212830    False\n",
            "Length: 212831, dtype: bool\n",
            "**************************************************************\n"
          ],
          "name": "stdout"
        },
        {
          "output_type": "execute_result",
          "data": {
            "text/plain": [
              "33"
            ]
          },
          "metadata": {
            "tags": []
          },
          "execution_count": 46
        }
      ]
    },
    {
      "cell_type": "code",
      "metadata": {
        "id": "SHOI5mah8Hkr",
        "colab_type": "code",
        "colab": {}
      },
      "source": [
        "# dropping duplicate values \n",
        "data.drop_duplicates(keep=False,inplace=True)"
      ],
      "execution_count": 0,
      "outputs": []
    },
    {
      "cell_type": "code",
      "metadata": {
        "id": "hraf27088gyw",
        "colab_type": "code",
        "outputId": "faab1fe3-99b4-4559-d54a-a3de8ffb13e2",
        "colab": {
          "base_uri": "https://localhost:8080/",
          "height": 33
        }
      },
      "source": [
        "#Checking if duplicates have been dropped\n",
        "\n",
        "data.duplicated().sum()"
      ],
      "execution_count": 48,
      "outputs": [
        {
          "output_type": "execute_result",
          "data": {
            "text/plain": [
              "0"
            ]
          },
          "metadata": {
            "tags": []
          },
          "execution_count": 48
        }
      ]
    },
    {
      "cell_type": "markdown",
      "metadata": {
        "id": "rF2ABPsHUtbZ",
        "colab_type": "text"
      },
      "source": [
        "## 6. Exploratory Data Analysis\n",
        "\n"
      ]
    },
    {
      "cell_type": "code",
      "metadata": {
        "id": "a_oEzFEG56KF",
        "colab_type": "code",
        "outputId": "6b594bd7-70dd-4cdd-95c1-c6e27b6c7509",
        "colab": {
          "base_uri": "https://localhost:8080/",
          "height": 537
        }
      },
      "source": [
        "# Recap of our data\n",
        "data.info()"
      ],
      "execution_count": 49,
      "outputs": [
        {
          "output_type": "stream",
          "text": [
            "<class 'pandas.core.frame.DataFrame'>\n",
            "Int64Index: 212765 entries, 0 to 212830\n",
            "Data columns (total 24 columns):\n",
            " #   Column                   Non-Null Count   Dtype  \n",
            "---  ------                   --------------   -----  \n",
            " 0   rank                     212765 non-null  int64  \n",
            " 1   country_full             212765 non-null  object \n",
            " 2   country_abrv             212765 non-null  object \n",
            " 3   total_points             212765 non-null  float64\n",
            " 4   previous_points          212765 non-null  int64  \n",
            " 5   rank_change              212765 non-null  int64  \n",
            " 6   cur_year_avg             212765 non-null  float64\n",
            " 7   cur_year_avg_weighted    212765 non-null  float64\n",
            " 8   last_year_avg            212765 non-null  float64\n",
            " 9   last_year_avg_weighted   212765 non-null  float64\n",
            " 10  two_year_ago_avg         212765 non-null  float64\n",
            " 11  two_year_ago_weighted    212765 non-null  float64\n",
            " 12  three_year_ago_avg       212765 non-null  float64\n",
            " 13  three_year_ago_weighted  212765 non-null  float64\n",
            " 14  confederation            212765 non-null  object \n",
            " 15  date                     212765 non-null  object \n",
            " 16  home_team                212765 non-null  object \n",
            " 17  away_team                212765 non-null  object \n",
            " 18  home_score               212765 non-null  int64  \n",
            " 19  away_score               212765 non-null  int64  \n",
            " 20  tournament               212765 non-null  object \n",
            " 21  city                     212765 non-null  object \n",
            " 22  country                  212765 non-null  object \n",
            " 23  neutral                  212765 non-null  bool   \n",
            "dtypes: bool(1), float64(9), int64(5), object(9)\n",
            "memory usage: 39.2+ MB\n"
          ],
          "name": "stdout"
        }
      ]
    },
    {
      "cell_type": "code",
      "metadata": {
        "id": "XckyTnwj778s",
        "colab_type": "code",
        "outputId": "8f0a3e79-78be-4499-ce1c-00a8018eeff8",
        "colab": {
          "base_uri": "https://localhost:8080/",
          "height": 331
        }
      },
      "source": [
        "# Dropping clumns that we do not need for our analysis\n",
        "data = data.drop(['country_abrv','date','confederation','city','neutral'], axis = 1)\n",
        "data.head()"
      ],
      "execution_count": 50,
      "outputs": [
        {
          "output_type": "execute_result",
          "data": {
            "text/html": [
              "<div>\n",
              "<style scoped>\n",
              "    .dataframe tbody tr th:only-of-type {\n",
              "        vertical-align: middle;\n",
              "    }\n",
              "\n",
              "    .dataframe tbody tr th {\n",
              "        vertical-align: top;\n",
              "    }\n",
              "\n",
              "    .dataframe thead th {\n",
              "        text-align: right;\n",
              "    }\n",
              "</style>\n",
              "<table border=\"1\" class=\"dataframe\">\n",
              "  <thead>\n",
              "    <tr style=\"text-align: right;\">\n",
              "      <th></th>\n",
              "      <th>rank</th>\n",
              "      <th>country_full</th>\n",
              "      <th>total_points</th>\n",
              "      <th>previous_points</th>\n",
              "      <th>rank_change</th>\n",
              "      <th>cur_year_avg</th>\n",
              "      <th>cur_year_avg_weighted</th>\n",
              "      <th>last_year_avg</th>\n",
              "      <th>last_year_avg_weighted</th>\n",
              "      <th>two_year_ago_avg</th>\n",
              "      <th>two_year_ago_weighted</th>\n",
              "      <th>three_year_ago_avg</th>\n",
              "      <th>three_year_ago_weighted</th>\n",
              "      <th>home_team</th>\n",
              "      <th>away_team</th>\n",
              "      <th>home_score</th>\n",
              "      <th>away_score</th>\n",
              "      <th>tournament</th>\n",
              "      <th>country</th>\n",
              "    </tr>\n",
              "  </thead>\n",
              "  <tbody>\n",
              "    <tr>\n",
              "      <th>0</th>\n",
              "      <td>1</td>\n",
              "      <td>Germany</td>\n",
              "      <td>0.0</td>\n",
              "      <td>57</td>\n",
              "      <td>0</td>\n",
              "      <td>0.0</td>\n",
              "      <td>0.0</td>\n",
              "      <td>0.0</td>\n",
              "      <td>0.0</td>\n",
              "      <td>0.0</td>\n",
              "      <td>0.0</td>\n",
              "      <td>0.0</td>\n",
              "      <td>0.0</td>\n",
              "      <td>Bolivia</td>\n",
              "      <td>Uruguay</td>\n",
              "      <td>3</td>\n",
              "      <td>1</td>\n",
              "      <td>FIFA World Cup qualification</td>\n",
              "      <td>Bolivia</td>\n",
              "    </tr>\n",
              "    <tr>\n",
              "      <th>1</th>\n",
              "      <td>1</td>\n",
              "      <td>Germany</td>\n",
              "      <td>0.0</td>\n",
              "      <td>57</td>\n",
              "      <td>0</td>\n",
              "      <td>0.0</td>\n",
              "      <td>0.0</td>\n",
              "      <td>0.0</td>\n",
              "      <td>0.0</td>\n",
              "      <td>0.0</td>\n",
              "      <td>0.0</td>\n",
              "      <td>0.0</td>\n",
              "      <td>0.0</td>\n",
              "      <td>Brazil</td>\n",
              "      <td>Mexico</td>\n",
              "      <td>1</td>\n",
              "      <td>1</td>\n",
              "      <td>Friendly</td>\n",
              "      <td>Brazil</td>\n",
              "    </tr>\n",
              "    <tr>\n",
              "      <th>2</th>\n",
              "      <td>1</td>\n",
              "      <td>Germany</td>\n",
              "      <td>0.0</td>\n",
              "      <td>57</td>\n",
              "      <td>0</td>\n",
              "      <td>0.0</td>\n",
              "      <td>0.0</td>\n",
              "      <td>0.0</td>\n",
              "      <td>0.0</td>\n",
              "      <td>0.0</td>\n",
              "      <td>0.0</td>\n",
              "      <td>0.0</td>\n",
              "      <td>0.0</td>\n",
              "      <td>Ecuador</td>\n",
              "      <td>Venezuela</td>\n",
              "      <td>5</td>\n",
              "      <td>0</td>\n",
              "      <td>FIFA World Cup qualification</td>\n",
              "      <td>Ecuador</td>\n",
              "    </tr>\n",
              "    <tr>\n",
              "      <th>3</th>\n",
              "      <td>1</td>\n",
              "      <td>Germany</td>\n",
              "      <td>0.0</td>\n",
              "      <td>57</td>\n",
              "      <td>0</td>\n",
              "      <td>0.0</td>\n",
              "      <td>0.0</td>\n",
              "      <td>0.0</td>\n",
              "      <td>0.0</td>\n",
              "      <td>0.0</td>\n",
              "      <td>0.0</td>\n",
              "      <td>0.0</td>\n",
              "      <td>0.0</td>\n",
              "      <td>Guinea</td>\n",
              "      <td>Sierra Leone</td>\n",
              "      <td>1</td>\n",
              "      <td>0</td>\n",
              "      <td>Friendly</td>\n",
              "      <td>Guinea</td>\n",
              "    </tr>\n",
              "    <tr>\n",
              "      <th>4</th>\n",
              "      <td>1</td>\n",
              "      <td>Germany</td>\n",
              "      <td>0.0</td>\n",
              "      <td>57</td>\n",
              "      <td>0</td>\n",
              "      <td>0.0</td>\n",
              "      <td>0.0</td>\n",
              "      <td>0.0</td>\n",
              "      <td>0.0</td>\n",
              "      <td>0.0</td>\n",
              "      <td>0.0</td>\n",
              "      <td>0.0</td>\n",
              "      <td>0.0</td>\n",
              "      <td>Paraguay</td>\n",
              "      <td>Argentina</td>\n",
              "      <td>1</td>\n",
              "      <td>3</td>\n",
              "      <td>FIFA World Cup qualification</td>\n",
              "      <td>Paraguay</td>\n",
              "    </tr>\n",
              "  </tbody>\n",
              "</table>\n",
              "</div>"
            ],
            "text/plain": [
              "   rank country_full  ...                    tournament   country\n",
              "0     1      Germany  ...  FIFA World Cup qualification   Bolivia\n",
              "1     1      Germany  ...                      Friendly    Brazil\n",
              "2     1      Germany  ...  FIFA World Cup qualification   Ecuador\n",
              "3     1      Germany  ...                      Friendly    Guinea\n",
              "4     1      Germany  ...  FIFA World Cup qualification  Paraguay\n",
              "\n",
              "[5 rows x 19 columns]"
            ]
          },
          "metadata": {
            "tags": []
          },
          "execution_count": 50
        }
      ]
    },
    {
      "cell_type": "code",
      "metadata": {
        "id": "2Ie-ziVe0PGJ",
        "colab_type": "code",
        "outputId": "2cb604d6-72f7-4f83-991a-389616e6ca18",
        "colab": {
          "base_uri": "https://localhost:8080/",
          "height": 453
        }
      },
      "source": [
        "data.info()"
      ],
      "execution_count": 51,
      "outputs": [
        {
          "output_type": "stream",
          "text": [
            "<class 'pandas.core.frame.DataFrame'>\n",
            "Int64Index: 212765 entries, 0 to 212830\n",
            "Data columns (total 19 columns):\n",
            " #   Column                   Non-Null Count   Dtype  \n",
            "---  ------                   --------------   -----  \n",
            " 0   rank                     212765 non-null  int64  \n",
            " 1   country_full             212765 non-null  object \n",
            " 2   total_points             212765 non-null  float64\n",
            " 3   previous_points          212765 non-null  int64  \n",
            " 4   rank_change              212765 non-null  int64  \n",
            " 5   cur_year_avg             212765 non-null  float64\n",
            " 6   cur_year_avg_weighted    212765 non-null  float64\n",
            " 7   last_year_avg            212765 non-null  float64\n",
            " 8   last_year_avg_weighted   212765 non-null  float64\n",
            " 9   two_year_ago_avg         212765 non-null  float64\n",
            " 10  two_year_ago_weighted    212765 non-null  float64\n",
            " 11  three_year_ago_avg       212765 non-null  float64\n",
            " 12  three_year_ago_weighted  212765 non-null  float64\n",
            " 13  home_team                212765 non-null  object \n",
            " 14  away_team                212765 non-null  object \n",
            " 15  home_score               212765 non-null  int64  \n",
            " 16  away_score               212765 non-null  int64  \n",
            " 17  tournament               212765 non-null  object \n",
            " 18  country                  212765 non-null  object \n",
            "dtypes: float64(9), int64(5), object(5)\n",
            "memory usage: 32.5+ MB\n"
          ],
          "name": "stdout"
        }
      ]
    },
    {
      "cell_type": "markdown",
      "metadata": {
        "id": "7LeKNTUr8_0Z",
        "colab_type": "text"
      },
      "source": [
        " # a). Univariate Analysis"
      ]
    },
    {
      "cell_type": "code",
      "metadata": {
        "id": "MhD4N1xy-G3r",
        "colab_type": "code",
        "outputId": "080dcb1a-b20f-4ada-da63-95eaaf534011",
        "colab": {
          "base_uri": "https://localhost:8080/",
          "height": 302
        }
      },
      "source": [
        "data.describe()"
      ],
      "execution_count": 52,
      "outputs": [
        {
          "output_type": "execute_result",
          "data": {
            "text/html": [
              "<div>\n",
              "<style scoped>\n",
              "    .dataframe tbody tr th:only-of-type {\n",
              "        vertical-align: middle;\n",
              "    }\n",
              "\n",
              "    .dataframe tbody tr th {\n",
              "        vertical-align: top;\n",
              "    }\n",
              "\n",
              "    .dataframe thead th {\n",
              "        text-align: right;\n",
              "    }\n",
              "</style>\n",
              "<table border=\"1\" class=\"dataframe\">\n",
              "  <thead>\n",
              "    <tr style=\"text-align: right;\">\n",
              "      <th></th>\n",
              "      <th>rank</th>\n",
              "      <th>total_points</th>\n",
              "      <th>previous_points</th>\n",
              "      <th>rank_change</th>\n",
              "      <th>cur_year_avg</th>\n",
              "      <th>cur_year_avg_weighted</th>\n",
              "      <th>last_year_avg</th>\n",
              "      <th>last_year_avg_weighted</th>\n",
              "      <th>two_year_ago_avg</th>\n",
              "      <th>two_year_ago_weighted</th>\n",
              "      <th>three_year_ago_avg</th>\n",
              "      <th>three_year_ago_weighted</th>\n",
              "      <th>home_score</th>\n",
              "      <th>away_score</th>\n",
              "    </tr>\n",
              "  </thead>\n",
              "  <tbody>\n",
              "    <tr>\n",
              "      <th>count</th>\n",
              "      <td>212765.000000</td>\n",
              "      <td>212765.000000</td>\n",
              "      <td>212765.000000</td>\n",
              "      <td>212765.000000</td>\n",
              "      <td>212765.000000</td>\n",
              "      <td>212765.000000</td>\n",
              "      <td>212765.000000</td>\n",
              "      <td>212765.000000</td>\n",
              "      <td>212765.000000</td>\n",
              "      <td>212765.000000</td>\n",
              "      <td>212765.000000</td>\n",
              "      <td>212765.000000</td>\n",
              "      <td>212765.000000</td>\n",
              "      <td>212765.000000</td>\n",
              "    </tr>\n",
              "    <tr>\n",
              "      <th>mean</th>\n",
              "      <td>101.862454</td>\n",
              "      <td>42.517230</td>\n",
              "      <td>341.243015</td>\n",
              "      <td>-0.009771</td>\n",
              "      <td>21.461544</td>\n",
              "      <td>21.461544</td>\n",
              "      <td>21.078558</td>\n",
              "      <td>10.539299</td>\n",
              "      <td>20.954054</td>\n",
              "      <td>6.286222</td>\n",
              "      <td>21.151177</td>\n",
              "      <td>4.230256</td>\n",
              "      <td>1.682086</td>\n",
              "      <td>1.046869</td>\n",
              "    </tr>\n",
              "    <tr>\n",
              "      <th>std</th>\n",
              "      <td>58.653561</td>\n",
              "      <td>163.871488</td>\n",
              "      <td>295.124948</td>\n",
              "      <td>4.537261</td>\n",
              "      <td>85.347835</td>\n",
              "      <td>85.347835</td>\n",
              "      <td>89.714101</td>\n",
              "      <td>44.857086</td>\n",
              "      <td>84.555038</td>\n",
              "      <td>25.366516</td>\n",
              "      <td>86.270404</td>\n",
              "      <td>17.254109</td>\n",
              "      <td>1.969737</td>\n",
              "      <td>1.257346</td>\n",
              "    </tr>\n",
              "    <tr>\n",
              "      <th>min</th>\n",
              "      <td>1.000000</td>\n",
              "      <td>0.000000</td>\n",
              "      <td>0.000000</td>\n",
              "      <td>-62.000000</td>\n",
              "      <td>0.000000</td>\n",
              "      <td>0.000000</td>\n",
              "      <td>0.000000</td>\n",
              "      <td>0.000000</td>\n",
              "      <td>0.000000</td>\n",
              "      <td>0.000000</td>\n",
              "      <td>0.000000</td>\n",
              "      <td>0.000000</td>\n",
              "      <td>0.000000</td>\n",
              "      <td>0.000000</td>\n",
              "    </tr>\n",
              "    <tr>\n",
              "      <th>25%</th>\n",
              "      <td>51.000000</td>\n",
              "      <td>0.000000</td>\n",
              "      <td>71.000000</td>\n",
              "      <td>-1.000000</td>\n",
              "      <td>0.000000</td>\n",
              "      <td>0.000000</td>\n",
              "      <td>0.000000</td>\n",
              "      <td>0.000000</td>\n",
              "      <td>0.000000</td>\n",
              "      <td>0.000000</td>\n",
              "      <td>0.000000</td>\n",
              "      <td>0.000000</td>\n",
              "      <td>0.000000</td>\n",
              "      <td>0.000000</td>\n",
              "    </tr>\n",
              "    <tr>\n",
              "      <th>50%</th>\n",
              "      <td>102.000000</td>\n",
              "      <td>0.000000</td>\n",
              "      <td>297.000000</td>\n",
              "      <td>0.000000</td>\n",
              "      <td>0.000000</td>\n",
              "      <td>0.000000</td>\n",
              "      <td>0.000000</td>\n",
              "      <td>0.000000</td>\n",
              "      <td>0.000000</td>\n",
              "      <td>0.000000</td>\n",
              "      <td>0.000000</td>\n",
              "      <td>0.000000</td>\n",
              "      <td>1.000000</td>\n",
              "      <td>1.000000</td>\n",
              "    </tr>\n",
              "    <tr>\n",
              "      <th>75%</th>\n",
              "      <td>152.000000</td>\n",
              "      <td>0.000000</td>\n",
              "      <td>531.000000</td>\n",
              "      <td>1.000000</td>\n",
              "      <td>0.000000</td>\n",
              "      <td>0.000000</td>\n",
              "      <td>0.000000</td>\n",
              "      <td>0.000000</td>\n",
              "      <td>0.000000</td>\n",
              "      <td>0.000000</td>\n",
              "      <td>0.000000</td>\n",
              "      <td>0.000000</td>\n",
              "      <td>2.000000</td>\n",
              "      <td>2.000000</td>\n",
              "    </tr>\n",
              "    <tr>\n",
              "      <th>max</th>\n",
              "      <td>209.000000</td>\n",
              "      <td>1770.060000</td>\n",
              "      <td>1920.000000</td>\n",
              "      <td>71.000000</td>\n",
              "      <td>1126.040000</td>\n",
              "      <td>1126.040000</td>\n",
              "      <td>1169.570000</td>\n",
              "      <td>584.790000</td>\n",
              "      <td>1159.710000</td>\n",
              "      <td>347.910000</td>\n",
              "      <td>1200.770000</td>\n",
              "      <td>240.150000</td>\n",
              "      <td>31.000000</td>\n",
              "      <td>12.000000</td>\n",
              "    </tr>\n",
              "  </tbody>\n",
              "</table>\n",
              "</div>"
            ],
            "text/plain": [
              "                rank   total_points  ...     home_score     away_score\n",
              "count  212765.000000  212765.000000  ...  212765.000000  212765.000000\n",
              "mean      101.862454      42.517230  ...       1.682086       1.046869\n",
              "std        58.653561     163.871488  ...       1.969737       1.257346\n",
              "min         1.000000       0.000000  ...       0.000000       0.000000\n",
              "25%        51.000000       0.000000  ...       0.000000       0.000000\n",
              "50%       102.000000       0.000000  ...       1.000000       1.000000\n",
              "75%       152.000000       0.000000  ...       2.000000       2.000000\n",
              "max       209.000000    1770.060000  ...      31.000000      12.000000\n",
              "\n",
              "[8 rows x 14 columns]"
            ]
          },
          "metadata": {
            "tags": []
          },
          "execution_count": 52
        }
      ]
    },
    {
      "cell_type": "code",
      "metadata": {
        "id": "5nnRToniXGDK",
        "colab_type": "code",
        "outputId": "5df79851-a359-4999-a36f-8fbab189fd53",
        "colab": {
          "base_uri": "https://localhost:8080/",
          "height": 717
        }
      },
      "source": [
        "# Ploting the univariate summaries and recording our observations\n",
        "#\n",
        "plt.figure(figsize=(25,10))\n",
        "data['tournament'].value_counts().plot.bar()"
      ],
      "execution_count": 53,
      "outputs": [
        {
          "output_type": "execute_result",
          "data": {
            "text/plain": [
              "<matplotlib.axes._subplots.AxesSubplot at 0x7f1b3076ffd0>"
            ]
          },
          "metadata": {
            "tags": []
          },
          "execution_count": 53
        },
        {
          "output_type": "display_data",
          "data": {
            "image/png": "[encoded data removed]",
            "text/plain": [
              "<Figure size 1800x720 with 1 Axes>"
            ]
          },
          "metadata": {
            "tags": [],
            "needs_background": "light"
          }
        }
      ]
    },
    {
      "cell_type": "markdown",
      "metadata": {
        "id": "gOeOy8gxMrRa",
        "colab_type": "text"
      },
      "source": [
        "\n",
        "We observe the most played type of tournament is Friendly games followed by Fifa world cup qualification games. This is because different teams have there own tournaments and friendly gaming is the only tp cross play."
      ]
    },
    {
      "cell_type": "code",
      "metadata": {
        "id": "TZcDTR9U6uWE",
        "colab_type": "code",
        "outputId": "c953e444-84cf-407f-a857-401054921c54",
        "colab": {
          "base_uri": "https://localhost:8080/",
          "height": 1000
        }
      },
      "source": [
        "# Ploting the univariate summaries and recording our observations\n",
        "#\n",
        "plt.figure(figsize=(20,50))\n",
        "data['home_team'].value_counts().plot.barh(color = 'green')"
      ],
      "execution_count": 54,
      "outputs": [
        {
          "output_type": "execute_result",
          "data": {
            "text/plain": [
              "<matplotlib.axes._subplots.AxesSubplot at 0x7f1b3018a940>"
            ]
          },
          "metadata": {
            "tags": []
          },
          "execution_count": 54
        },
        {
          "output_type": "display_data",
          "data": {
            "image/png": "[encoded data removed]",
            "text/plain": [
              "<Figure size 1440x3600 with 1 Axes>"
            ]
          },
          "metadata": {
            "tags": [],
            "needs_background": "light"
          }
        }
      ]
    },
    {
      "cell_type": "markdown",
      "metadata": {
        "id": "2wdSJOuONSAt",
        "colab_type": "text"
      },
      "source": [
        "**Observation** \n",
        "Mexico hosted the highest games whereas Guniea hosted the least."
      ]
    },
    {
      "cell_type": "code",
      "metadata": {
        "id": "d-Ke18eL66HL",
        "colab_type": "code",
        "outputId": "e01b7053-07c8-4cdb-8f56-e9e159284973",
        "colab": {
          "base_uri": "https://localhost:8080/",
          "height": 1000
        }
      },
      "source": [
        "plt.figure(figsize=(20,50))\n",
        "data['away_team'].value_counts().plot.barh()"
      ],
      "execution_count": 55,
      "outputs": [
        {
          "output_type": "execute_result",
          "data": {
            "text/plain": [
              "<matplotlib.axes._subplots.AxesSubplot at 0x7f1b333e2860>"
            ]
          },
          "metadata": {
            "tags": []
          },
          "execution_count": 55
        },
        {
          "output_type": "display_data",
          "data": {
            "image/png": "[encoded data removed]",
            "text/plain": [
              "<Figure size 1440x3600 with 1 Axes>"
            ]
          },
          "metadata": {
            "tags": [],
            "needs_background": "light"
          }
        }
      ]
    },
    {
      "cell_type": "markdown",
      "metadata": {
        "id": "4QsCfJLVNxAU",
        "colab_type": "text"
      },
      "source": [
        "**Observation**\n",
        "Argentina played the most games away while Siera Leon played the least."
      ]
    },
    {
      "cell_type": "code",
      "metadata": {
        "id": "qAB_yqZ77zsr",
        "colab_type": "code",
        "outputId": "a9d77adc-c46c-4f6c-aae9-0cc6eeb5109f",
        "colab": {
          "base_uri": "https://localhost:8080/",
          "height": 610
        }
      },
      "source": [
        "plt.figure(figsize=(10,10))\n",
        "data['away_score'].value_counts().plot.bar(color = 'green')"
      ],
      "execution_count": 56,
      "outputs": [
        {
          "output_type": "execute_result",
          "data": {
            "text/plain": [
              "<matplotlib.axes._subplots.AxesSubplot at 0x7f1b33134550>"
            ]
          },
          "metadata": {
            "tags": []
          },
          "execution_count": 56
        },
        {
          "output_type": "display_data",
          "data": {
            "image/png": "[encoded data removed]",
            "text/plain": [
              "<Figure size 720x720 with 1 Axes>"
            ]
          },
          "metadata": {
            "tags": [],
            "needs_background": "light"
          }
        }
      ]
    },
    {
      "cell_type": "markdown",
      "metadata": {
        "id": "SW_YXLO5OLmX",
        "colab_type": "text"
      },
      "source": [
        "**Observation** \n",
        "Teams playing away are likely to score no goals."
      ]
    },
    {
      "cell_type": "code",
      "metadata": {
        "id": "iAFA-_Eu8RxV",
        "colab_type": "code",
        "outputId": "ff9c7d3d-ff93-4904-e5f3-5d3300f56cd0",
        "colab": {
          "base_uri": "https://localhost:8080/",
          "height": 610
        }
      },
      "source": [
        "plt.figure(figsize=(15,10))\n",
        "data['home_score'].value_counts().plot.bar()"
      ],
      "execution_count": 57,
      "outputs": [
        {
          "output_type": "execute_result",
          "data": {
            "text/plain": [
              "<matplotlib.axes._subplots.AxesSubplot at 0x7f1b2fce1f28>"
            ]
          },
          "metadata": {
            "tags": []
          },
          "execution_count": 57
        },
        {
          "output_type": "display_data",
          "data": {
            "image/png": "[encoded data removed]",
            "text/plain": [
              "<Figure size 1080x720 with 1 Axes>"
            ]
          },
          "metadata": {
            "tags": [],
            "needs_background": "light"
          }
        }
      ]
    },
    {
      "cell_type": "markdown",
      "metadata": {
        "id": "2AZoo5LDOgVt",
        "colab_type": "text"
      },
      "source": [
        "**Observation**\n",
        "Home teams are more likely to score at least one goal."
      ]
    },
    {
      "cell_type": "code",
      "metadata": {
        "id": "auzbcl31C4mo",
        "colab_type": "code",
        "outputId": "bb6291ad-2c71-4bc6-823b-669277cfd313",
        "colab": {
          "base_uri": "https://localhost:8080/",
          "height": 117
        }
      },
      "source": [
        "data.columns"
      ],
      "execution_count": 58,
      "outputs": [
        {
          "output_type": "execute_result",
          "data": {
            "text/plain": [
              "Index(['rank', 'country_full', 'total_points', 'previous_points',\n",
              "       'rank_change', 'cur_year_avg', 'cur_year_avg_weighted', 'last_year_avg',\n",
              "       'last_year_avg_weighted', 'two_year_ago_avg', 'two_year_ago_weighted',\n",
              "       'three_year_ago_avg', 'three_year_ago_weighted', 'home_team',\n",
              "       'away_team', 'home_score', 'away_score', 'tournament', 'country'],\n",
              "      dtype='object')"
            ]
          },
          "metadata": {
            "tags": []
          },
          "execution_count": 58
        }
      ]
    },
    {
      "cell_type": "code",
      "metadata": {
        "id": "vr3-h4zjC7ZB",
        "colab_type": "code",
        "outputId": "7b45efb7-ddac-49de-afcd-cb3350b72a30",
        "colab": {
          "base_uri": "https://localhost:8080/",
          "height": 789
        }
      },
      "source": [
        "data\n"
      ],
      "execution_count": 59,
      "outputs": [
        {
          "output_type": "execute_result",
          "data": {
            "text/html": [
              "<div>\n",
              "<style scoped>\n",
              "    .dataframe tbody tr th:only-of-type {\n",
              "        vertical-align: middle;\n",
              "    }\n",
              "\n",
              "    .dataframe tbody tr th {\n",
              "        vertical-align: top;\n",
              "    }\n",
              "\n",
              "    .dataframe thead th {\n",
              "        text-align: right;\n",
              "    }\n",
              "</style>\n",
              "<table border=\"1\" class=\"dataframe\">\n",
              "  <thead>\n",
              "    <tr style=\"text-align: right;\">\n",
              "      <th></th>\n",
              "      <th>rank</th>\n",
              "      <th>country_full</th>\n",
              "      <th>total_points</th>\n",
              "      <th>previous_points</th>\n",
              "      <th>rank_change</th>\n",
              "      <th>cur_year_avg</th>\n",
              "      <th>cur_year_avg_weighted</th>\n",
              "      <th>last_year_avg</th>\n",
              "      <th>last_year_avg_weighted</th>\n",
              "      <th>two_year_ago_avg</th>\n",
              "      <th>two_year_ago_weighted</th>\n",
              "      <th>three_year_ago_avg</th>\n",
              "      <th>three_year_ago_weighted</th>\n",
              "      <th>home_team</th>\n",
              "      <th>away_team</th>\n",
              "      <th>home_score</th>\n",
              "      <th>away_score</th>\n",
              "      <th>tournament</th>\n",
              "      <th>country</th>\n",
              "    </tr>\n",
              "  </thead>\n",
              "  <tbody>\n",
              "    <tr>\n",
              "      <th>0</th>\n",
              "      <td>1</td>\n",
              "      <td>Germany</td>\n",
              "      <td>0.0</td>\n",
              "      <td>57</td>\n",
              "      <td>0</td>\n",
              "      <td>0.0</td>\n",
              "      <td>0.0</td>\n",
              "      <td>0.0</td>\n",
              "      <td>0.0</td>\n",
              "      <td>0.0</td>\n",
              "      <td>0.0</td>\n",
              "      <td>0.0</td>\n",
              "      <td>0.0</td>\n",
              "      <td>Bolivia</td>\n",
              "      <td>Uruguay</td>\n",
              "      <td>3</td>\n",
              "      <td>1</td>\n",
              "      <td>FIFA World Cup qualification</td>\n",
              "      <td>Bolivia</td>\n",
              "    </tr>\n",
              "    <tr>\n",
              "      <th>1</th>\n",
              "      <td>1</td>\n",
              "      <td>Germany</td>\n",
              "      <td>0.0</td>\n",
              "      <td>57</td>\n",
              "      <td>0</td>\n",
              "      <td>0.0</td>\n",
              "      <td>0.0</td>\n",
              "      <td>0.0</td>\n",
              "      <td>0.0</td>\n",
              "      <td>0.0</td>\n",
              "      <td>0.0</td>\n",
              "      <td>0.0</td>\n",
              "      <td>0.0</td>\n",
              "      <td>Brazil</td>\n",
              "      <td>Mexico</td>\n",
              "      <td>1</td>\n",
              "      <td>1</td>\n",
              "      <td>Friendly</td>\n",
              "      <td>Brazil</td>\n",
              "    </tr>\n",
              "    <tr>\n",
              "      <th>2</th>\n",
              "      <td>1</td>\n",
              "      <td>Germany</td>\n",
              "      <td>0.0</td>\n",
              "      <td>57</td>\n",
              "      <td>0</td>\n",
              "      <td>0.0</td>\n",
              "      <td>0.0</td>\n",
              "      <td>0.0</td>\n",
              "      <td>0.0</td>\n",
              "      <td>0.0</td>\n",
              "      <td>0.0</td>\n",
              "      <td>0.0</td>\n",
              "      <td>0.0</td>\n",
              "      <td>Ecuador</td>\n",
              "      <td>Venezuela</td>\n",
              "      <td>5</td>\n",
              "      <td>0</td>\n",
              "      <td>FIFA World Cup qualification</td>\n",
              "      <td>Ecuador</td>\n",
              "    </tr>\n",
              "    <tr>\n",
              "      <th>3</th>\n",
              "      <td>1</td>\n",
              "      <td>Germany</td>\n",
              "      <td>0.0</td>\n",
              "      <td>57</td>\n",
              "      <td>0</td>\n",
              "      <td>0.0</td>\n",
              "      <td>0.0</td>\n",
              "      <td>0.0</td>\n",
              "      <td>0.0</td>\n",
              "      <td>0.0</td>\n",
              "      <td>0.0</td>\n",
              "      <td>0.0</td>\n",
              "      <td>0.0</td>\n",
              "      <td>Guinea</td>\n",
              "      <td>Sierra Leone</td>\n",
              "      <td>1</td>\n",
              "      <td>0</td>\n",
              "      <td>Friendly</td>\n",
              "      <td>Guinea</td>\n",
              "    </tr>\n",
              "    <tr>\n",
              "      <th>4</th>\n",
              "      <td>1</td>\n",
              "      <td>Germany</td>\n",
              "      <td>0.0</td>\n",
              "      <td>57</td>\n",
              "      <td>0</td>\n",
              "      <td>0.0</td>\n",
              "      <td>0.0</td>\n",
              "      <td>0.0</td>\n",
              "      <td>0.0</td>\n",
              "      <td>0.0</td>\n",
              "      <td>0.0</td>\n",
              "      <td>0.0</td>\n",
              "      <td>0.0</td>\n",
              "      <td>Paraguay</td>\n",
              "      <td>Argentina</td>\n",
              "      <td>1</td>\n",
              "      <td>3</td>\n",
              "      <td>FIFA World Cup qualification</td>\n",
              "      <td>Paraguay</td>\n",
              "    </tr>\n",
              "    <tr>\n",
              "      <th>...</th>\n",
              "      <td>...</td>\n",
              "      <td>...</td>\n",
              "      <td>...</td>\n",
              "      <td>...</td>\n",
              "      <td>...</td>\n",
              "      <td>...</td>\n",
              "      <td>...</td>\n",
              "      <td>...</td>\n",
              "      <td>...</td>\n",
              "      <td>...</td>\n",
              "      <td>...</td>\n",
              "      <td>...</td>\n",
              "      <td>...</td>\n",
              "      <td>...</td>\n",
              "      <td>...</td>\n",
              "      <td>...</td>\n",
              "      <td>...</td>\n",
              "      <td>...</td>\n",
              "      <td>...</td>\n",
              "    </tr>\n",
              "    <tr>\n",
              "      <th>212826</th>\n",
              "      <td>206</td>\n",
              "      <td>Tonga</td>\n",
              "      <td>0.0</td>\n",
              "      <td>0</td>\n",
              "      <td>1</td>\n",
              "      <td>0.0</td>\n",
              "      <td>0.0</td>\n",
              "      <td>0.0</td>\n",
              "      <td>0.0</td>\n",
              "      <td>0.0</td>\n",
              "      <td>0.0</td>\n",
              "      <td>0.0</td>\n",
              "      <td>0.0</td>\n",
              "      <td>Abkhazia</td>\n",
              "      <td>United Koreans in Japan</td>\n",
              "      <td>2</td>\n",
              "      <td>0</td>\n",
              "      <td>CONIFA World Football Cup</td>\n",
              "      <td>England</td>\n",
              "    </tr>\n",
              "    <tr>\n",
              "      <th>212827</th>\n",
              "      <td>206</td>\n",
              "      <td>Tonga</td>\n",
              "      <td>0.0</td>\n",
              "      <td>0</td>\n",
              "      <td>1</td>\n",
              "      <td>0.0</td>\n",
              "      <td>0.0</td>\n",
              "      <td>0.0</td>\n",
              "      <td>0.0</td>\n",
              "      <td>0.0</td>\n",
              "      <td>0.0</td>\n",
              "      <td>0.0</td>\n",
              "      <td>0.0</td>\n",
              "      <td>Barawa</td>\n",
              "      <td>Panjab</td>\n",
              "      <td>0</td>\n",
              "      <td>5</td>\n",
              "      <td>CONIFA World Football Cup</td>\n",
              "      <td>England</td>\n",
              "    </tr>\n",
              "    <tr>\n",
              "      <th>212828</th>\n",
              "      <td>206</td>\n",
              "      <td>Tonga</td>\n",
              "      <td>0.0</td>\n",
              "      <td>0</td>\n",
              "      <td>1</td>\n",
              "      <td>0.0</td>\n",
              "      <td>0.0</td>\n",
              "      <td>0.0</td>\n",
              "      <td>0.0</td>\n",
              "      <td>0.0</td>\n",
              "      <td>0.0</td>\n",
              "      <td>0.0</td>\n",
              "      <td>0.0</td>\n",
              "      <td>Cascadia</td>\n",
              "      <td>Western Armenia</td>\n",
              "      <td>4</td>\n",
              "      <td>0</td>\n",
              "      <td>CONIFA World Football Cup</td>\n",
              "      <td>England</td>\n",
              "    </tr>\n",
              "    <tr>\n",
              "      <th>212829</th>\n",
              "      <td>206</td>\n",
              "      <td>Tonga</td>\n",
              "      <td>0.0</td>\n",
              "      <td>0</td>\n",
              "      <td>1</td>\n",
              "      <td>0.0</td>\n",
              "      <td>0.0</td>\n",
              "      <td>0.0</td>\n",
              "      <td>0.0</td>\n",
              "      <td>0.0</td>\n",
              "      <td>0.0</td>\n",
              "      <td>0.0</td>\n",
              "      <td>0.0</td>\n",
              "      <td>Northern Cyprus</td>\n",
              "      <td>Padania</td>\n",
              "      <td>3</td>\n",
              "      <td>2</td>\n",
              "      <td>CONIFA World Football Cup</td>\n",
              "      <td>England</td>\n",
              "    </tr>\n",
              "    <tr>\n",
              "      <th>212830</th>\n",
              "      <td>206</td>\n",
              "      <td>Tonga</td>\n",
              "      <td>0.0</td>\n",
              "      <td>0</td>\n",
              "      <td>1</td>\n",
              "      <td>0.0</td>\n",
              "      <td>0.0</td>\n",
              "      <td>0.0</td>\n",
              "      <td>0.0</td>\n",
              "      <td>0.0</td>\n",
              "      <td>0.0</td>\n",
              "      <td>0.0</td>\n",
              "      <td>0.0</td>\n",
              "      <td>Kárpátalja</td>\n",
              "      <td>Székely Land</td>\n",
              "      <td>4</td>\n",
              "      <td>2</td>\n",
              "      <td>CONIFA World Football Cup</td>\n",
              "      <td>England</td>\n",
              "    </tr>\n",
              "  </tbody>\n",
              "</table>\n",
              "<p>212765 rows × 19 columns</p>\n",
              "</div>"
            ],
            "text/plain": [
              "        rank country_full  ...                    tournament   country\n",
              "0          1      Germany  ...  FIFA World Cup qualification   Bolivia\n",
              "1          1      Germany  ...                      Friendly    Brazil\n",
              "2          1      Germany  ...  FIFA World Cup qualification   Ecuador\n",
              "3          1      Germany  ...                      Friendly    Guinea\n",
              "4          1      Germany  ...  FIFA World Cup qualification  Paraguay\n",
              "...      ...          ...  ...                           ...       ...\n",
              "212826   206        Tonga  ...     CONIFA World Football Cup   England\n",
              "212827   206        Tonga  ...     CONIFA World Football Cup   England\n",
              "212828   206        Tonga  ...     CONIFA World Football Cup   England\n",
              "212829   206        Tonga  ...     CONIFA World Football Cup   England\n",
              "212830   206        Tonga  ...     CONIFA World Football Cup   England\n",
              "\n",
              "[212765 rows x 19 columns]"
            ]
          },
          "metadata": {
            "tags": []
          },
          "execution_count": 59
        }
      ]
    },
    {
      "cell_type": "code",
      "metadata": {
        "id": "qVExcp4scyTp",
        "colab_type": "code",
        "colab": {
          "base_uri": "https://localhost:8080/",
          "height": 117
        },
        "outputId": "9236a0a9-2819-47b7-8ebf-5dcd9176cfa4"
      },
      "source": [
        "data.columns"
      ],
      "execution_count": 60,
      "outputs": [
        {
          "output_type": "execute_result",
          "data": {
            "text/plain": [
              "Index(['rank', 'country_full', 'total_points', 'previous_points',\n",
              "       'rank_change', 'cur_year_avg', 'cur_year_avg_weighted', 'last_year_avg',\n",
              "       'last_year_avg_weighted', 'two_year_ago_avg', 'two_year_ago_weighted',\n",
              "       'three_year_ago_avg', 'three_year_ago_weighted', 'home_team',\n",
              "       'away_team', 'home_score', 'away_score', 'tournament', 'country'],\n",
              "      dtype='object')"
            ]
          },
          "metadata": {
            "tags": []
          },
          "execution_count": 60
        }
      ]
    },
    {
      "cell_type": "code",
      "metadata": {
        "id": "-tleQmjxc7GU",
        "colab_type": "code",
        "colab": {}
      },
      "source": [
        "data1 = data[['rank', 'total_points', 'previous_points', 'rank_change', 'cur_year_avg', 'cur_year_avg_weighted', 'last_year_avg',\n",
        "             'last_year_avg_weighted', 'two_year_ago_avg', 'two_year_ago_weighted',\n",
        "       'three_year_ago_avg', 'three_year_ago_weighted', 'away_score']]"
      ],
      "execution_count": 0,
      "outputs": []
    },
    {
      "cell_type": "code",
      "metadata": {
        "id": "RqoC4czvds96",
        "colab_type": "code",
        "colab": {
          "base_uri": "https://localhost:8080/",
          "height": 96
        },
        "outputId": "d94d89f8-34b1-4948-d20e-2bb80489272d"
      },
      "source": [
        "data1.head(1)"
      ],
      "execution_count": 63,
      "outputs": [
        {
          "output_type": "execute_result",
          "data": {
            "text/html": [
              "<div>\n",
              "<style scoped>\n",
              "    .dataframe tbody tr th:only-of-type {\n",
              "        vertical-align: middle;\n",
              "    }\n",
              "\n",
              "    .dataframe tbody tr th {\n",
              "        vertical-align: top;\n",
              "    }\n",
              "\n",
              "    .dataframe thead th {\n",
              "        text-align: right;\n",
              "    }\n",
              "</style>\n",
              "<table border=\"1\" class=\"dataframe\">\n",
              "  <thead>\n",
              "    <tr style=\"text-align: right;\">\n",
              "      <th></th>\n",
              "      <th>rank</th>\n",
              "      <th>total_points</th>\n",
              "      <th>previous_points</th>\n",
              "      <th>rank_change</th>\n",
              "      <th>cur_year_avg</th>\n",
              "      <th>cur_year_avg_weighted</th>\n",
              "      <th>last_year_avg</th>\n",
              "      <th>last_year_avg_weighted</th>\n",
              "      <th>two_year_ago_avg</th>\n",
              "      <th>two_year_ago_weighted</th>\n",
              "      <th>three_year_ago_avg</th>\n",
              "      <th>three_year_ago_weighted</th>\n",
              "      <th>away_score</th>\n",
              "    </tr>\n",
              "  </thead>\n",
              "  <tbody>\n",
              "    <tr>\n",
              "      <th>0</th>\n",
              "      <td>1</td>\n",
              "      <td>0.0</td>\n",
              "      <td>57</td>\n",
              "      <td>0</td>\n",
              "      <td>0.0</td>\n",
              "      <td>0.0</td>\n",
              "      <td>0.0</td>\n",
              "      <td>0.0</td>\n",
              "      <td>0.0</td>\n",
              "      <td>0.0</td>\n",
              "      <td>0.0</td>\n",
              "      <td>0.0</td>\n",
              "      <td>1</td>\n",
              "    </tr>\n",
              "  </tbody>\n",
              "</table>\n",
              "</div>"
            ],
            "text/plain": [
              "   rank  total_points  ...  three_year_ago_weighted  away_score\n",
              "0     1           0.0  ...                      0.0           1\n",
              "\n",
              "[1 rows x 13 columns]"
            ]
          },
          "metadata": {
            "tags": []
          },
          "execution_count": 63
        }
      ]
    },
    {
      "cell_type": "markdown",
      "metadata": {
        "id": "GFQtmf6od6ho",
        "colab_type": "text"
      },
      "source": [
        "# Multicollinearity Test"
      ]
    },
    {
      "cell_type": "code",
      "metadata": {
        "id": "j9WmKbkdcodW",
        "colab_type": "code",
        "colab": {
          "base_uri": "https://localhost:8080/",
          "height": 449
        },
        "outputId": "51bb277c-9ab9-448c-d6f7-b6128134608d"
      },
      "source": [
        "# Detecting Multicollinearity on the predictor variables & Checking for multicollinearity on the independent variables only\n",
        "\n",
        "independent = data1\n",
        "correlations = independent.corr()\n",
        "correlations"
      ],
      "execution_count": 64,
      "outputs": [
        {
          "output_type": "execute_result",
          "data": {
            "text/html": [
              "<div>\n",
              "<style scoped>\n",
              "    .dataframe tbody tr th:only-of-type {\n",
              "        vertical-align: middle;\n",
              "    }\n",
              "\n",
              "    .dataframe tbody tr th {\n",
              "        vertical-align: top;\n",
              "    }\n",
              "\n",
              "    .dataframe thead th {\n",
              "        text-align: right;\n",
              "    }\n",
              "</style>\n",
              "<table border=\"1\" class=\"dataframe\">\n",
              "  <thead>\n",
              "    <tr style=\"text-align: right;\">\n",
              "      <th></th>\n",
              "      <th>rank</th>\n",
              "      <th>total_points</th>\n",
              "      <th>previous_points</th>\n",
              "      <th>rank_change</th>\n",
              "      <th>cur_year_avg</th>\n",
              "      <th>cur_year_avg_weighted</th>\n",
              "      <th>last_year_avg</th>\n",
              "      <th>last_year_avg_weighted</th>\n",
              "      <th>two_year_ago_avg</th>\n",
              "      <th>two_year_ago_weighted</th>\n",
              "      <th>three_year_ago_avg</th>\n",
              "      <th>three_year_ago_weighted</th>\n",
              "      <th>away_score</th>\n",
              "    </tr>\n",
              "  </thead>\n",
              "  <tbody>\n",
              "    <tr>\n",
              "      <th>rank</th>\n",
              "      <td>1.000000</td>\n",
              "      <td>-0.191567</td>\n",
              "      <td>-0.760986</td>\n",
              "      <td>-0.040395</td>\n",
              "      <td>-0.187637</td>\n",
              "      <td>-0.187637</td>\n",
              "      <td>-0.180796</td>\n",
              "      <td>-0.180795</td>\n",
              "      <td>-0.172195</td>\n",
              "      <td>-0.172195</td>\n",
              "      <td>-0.168073</td>\n",
              "      <td>-0.168072</td>\n",
              "      <td>-0.000836</td>\n",
              "    </tr>\n",
              "    <tr>\n",
              "      <th>total_points</th>\n",
              "      <td>-0.191567</td>\n",
              "      <td>1.000000</td>\n",
              "      <td>0.291093</td>\n",
              "      <td>0.008677</td>\n",
              "      <td>0.970790</td>\n",
              "      <td>0.970790</td>\n",
              "      <td>0.929693</td>\n",
              "      <td>0.929693</td>\n",
              "      <td>0.927185</td>\n",
              "      <td>0.927185</td>\n",
              "      <td>0.915383</td>\n",
              "      <td>0.915384</td>\n",
              "      <td>0.019831</td>\n",
              "    </tr>\n",
              "    <tr>\n",
              "      <th>previous_points</th>\n",
              "      <td>-0.760986</td>\n",
              "      <td>0.291093</td>\n",
              "      <td>1.000000</td>\n",
              "      <td>-0.022351</td>\n",
              "      <td>0.282222</td>\n",
              "      <td>0.282222</td>\n",
              "      <td>0.277580</td>\n",
              "      <td>0.277579</td>\n",
              "      <td>0.263553</td>\n",
              "      <td>0.263553</td>\n",
              "      <td>0.259538</td>\n",
              "      <td>0.259538</td>\n",
              "      <td>-0.009360</td>\n",
              "    </tr>\n",
              "    <tr>\n",
              "      <th>rank_change</th>\n",
              "      <td>-0.040395</td>\n",
              "      <td>0.008677</td>\n",
              "      <td>-0.022351</td>\n",
              "      <td>1.000000</td>\n",
              "      <td>0.016598</td>\n",
              "      <td>0.016598</td>\n",
              "      <td>0.001392</td>\n",
              "      <td>0.001392</td>\n",
              "      <td>-0.003506</td>\n",
              "      <td>-0.003507</td>\n",
              "      <td>0.001844</td>\n",
              "      <td>0.001844</td>\n",
              "      <td>0.000046</td>\n",
              "    </tr>\n",
              "    <tr>\n",
              "      <th>cur_year_avg</th>\n",
              "      <td>-0.187637</td>\n",
              "      <td>0.970790</td>\n",
              "      <td>0.282222</td>\n",
              "      <td>0.016598</td>\n",
              "      <td>1.000000</td>\n",
              "      <td>1.000000</td>\n",
              "      <td>0.831256</td>\n",
              "      <td>0.831256</td>\n",
              "      <td>0.858944</td>\n",
              "      <td>0.858945</td>\n",
              "      <td>0.849710</td>\n",
              "      <td>0.849710</td>\n",
              "      <td>0.014944</td>\n",
              "    </tr>\n",
              "    <tr>\n",
              "      <th>cur_year_avg_weighted</th>\n",
              "      <td>-0.187637</td>\n",
              "      <td>0.970790</td>\n",
              "      <td>0.282222</td>\n",
              "      <td>0.016598</td>\n",
              "      <td>1.000000</td>\n",
              "      <td>1.000000</td>\n",
              "      <td>0.831256</td>\n",
              "      <td>0.831256</td>\n",
              "      <td>0.858944</td>\n",
              "      <td>0.858945</td>\n",
              "      <td>0.849710</td>\n",
              "      <td>0.849710</td>\n",
              "      <td>0.014944</td>\n",
              "    </tr>\n",
              "    <tr>\n",
              "      <th>last_year_avg</th>\n",
              "      <td>-0.180796</td>\n",
              "      <td>0.929693</td>\n",
              "      <td>0.277580</td>\n",
              "      <td>0.001392</td>\n",
              "      <td>0.831256</td>\n",
              "      <td>0.831256</td>\n",
              "      <td>1.000000</td>\n",
              "      <td>1.000000</td>\n",
              "      <td>0.857439</td>\n",
              "      <td>0.857438</td>\n",
              "      <td>0.857601</td>\n",
              "      <td>0.857601</td>\n",
              "      <td>0.024160</td>\n",
              "    </tr>\n",
              "    <tr>\n",
              "      <th>last_year_avg_weighted</th>\n",
              "      <td>-0.180795</td>\n",
              "      <td>0.929693</td>\n",
              "      <td>0.277579</td>\n",
              "      <td>0.001392</td>\n",
              "      <td>0.831256</td>\n",
              "      <td>0.831256</td>\n",
              "      <td>1.000000</td>\n",
              "      <td>1.000000</td>\n",
              "      <td>0.857439</td>\n",
              "      <td>0.857438</td>\n",
              "      <td>0.857601</td>\n",
              "      <td>0.857601</td>\n",
              "      <td>0.024160</td>\n",
              "    </tr>\n",
              "    <tr>\n",
              "      <th>two_year_ago_avg</th>\n",
              "      <td>-0.172195</td>\n",
              "      <td>0.927185</td>\n",
              "      <td>0.263553</td>\n",
              "      <td>-0.003506</td>\n",
              "      <td>0.858944</td>\n",
              "      <td>0.858944</td>\n",
              "      <td>0.857439</td>\n",
              "      <td>0.857439</td>\n",
              "      <td>1.000000</td>\n",
              "      <td>1.000000</td>\n",
              "      <td>0.857861</td>\n",
              "      <td>0.857861</td>\n",
              "      <td>0.019646</td>\n",
              "    </tr>\n",
              "    <tr>\n",
              "      <th>two_year_ago_weighted</th>\n",
              "      <td>-0.172195</td>\n",
              "      <td>0.927185</td>\n",
              "      <td>0.263553</td>\n",
              "      <td>-0.003507</td>\n",
              "      <td>0.858945</td>\n",
              "      <td>0.858945</td>\n",
              "      <td>0.857438</td>\n",
              "      <td>0.857438</td>\n",
              "      <td>1.000000</td>\n",
              "      <td>1.000000</td>\n",
              "      <td>0.857861</td>\n",
              "      <td>0.857861</td>\n",
              "      <td>0.019646</td>\n",
              "    </tr>\n",
              "    <tr>\n",
              "      <th>three_year_ago_avg</th>\n",
              "      <td>-0.168073</td>\n",
              "      <td>0.915383</td>\n",
              "      <td>0.259538</td>\n",
              "      <td>0.001844</td>\n",
              "      <td>0.849710</td>\n",
              "      <td>0.849710</td>\n",
              "      <td>0.857601</td>\n",
              "      <td>0.857601</td>\n",
              "      <td>0.857861</td>\n",
              "      <td>0.857861</td>\n",
              "      <td>1.000000</td>\n",
              "      <td>1.000000</td>\n",
              "      <td>0.022730</td>\n",
              "    </tr>\n",
              "    <tr>\n",
              "      <th>three_year_ago_weighted</th>\n",
              "      <td>-0.168072</td>\n",
              "      <td>0.915384</td>\n",
              "      <td>0.259538</td>\n",
              "      <td>0.001844</td>\n",
              "      <td>0.849710</td>\n",
              "      <td>0.849710</td>\n",
              "      <td>0.857601</td>\n",
              "      <td>0.857601</td>\n",
              "      <td>0.857861</td>\n",
              "      <td>0.857861</td>\n",
              "      <td>1.000000</td>\n",
              "      <td>1.000000</td>\n",
              "      <td>0.022730</td>\n",
              "    </tr>\n",
              "    <tr>\n",
              "      <th>away_score</th>\n",
              "      <td>-0.000836</td>\n",
              "      <td>0.019831</td>\n",
              "      <td>-0.009360</td>\n",
              "      <td>0.000046</td>\n",
              "      <td>0.014944</td>\n",
              "      <td>0.014944</td>\n",
              "      <td>0.024160</td>\n",
              "      <td>0.024160</td>\n",
              "      <td>0.019646</td>\n",
              "      <td>0.019646</td>\n",
              "      <td>0.022730</td>\n",
              "      <td>0.022730</td>\n",
              "      <td>1.000000</td>\n",
              "    </tr>\n",
              "  </tbody>\n",
              "</table>\n",
              "</div>"
            ],
            "text/plain": [
              "                             rank  ...  away_score\n",
              "rank                     1.000000  ...   -0.000836\n",
              "total_points            -0.191567  ...    0.019831\n",
              "previous_points         -0.760986  ...   -0.009360\n",
              "rank_change             -0.040395  ...    0.000046\n",
              "cur_year_avg            -0.187637  ...    0.014944\n",
              "cur_year_avg_weighted   -0.187637  ...    0.014944\n",
              "last_year_avg           -0.180796  ...    0.024160\n",
              "last_year_avg_weighted  -0.180795  ...    0.024160\n",
              "two_year_ago_avg        -0.172195  ...    0.019646\n",
              "two_year_ago_weighted   -0.172195  ...    0.019646\n",
              "three_year_ago_avg      -0.168073  ...    0.022730\n",
              "three_year_ago_weighted -0.168072  ...    0.022730\n",
              "away_score              -0.000836  ...    1.000000\n",
              "\n",
              "[13 rows x 13 columns]"
            ]
          },
          "metadata": {
            "tags": []
          },
          "execution_count": 64
        }
      ]
    },
    {
      "cell_type": "code",
      "metadata": {
        "id": "lHaQZTkfeBVK",
        "colab_type": "code",
        "colab": {
          "base_uri": "https://localhost:8080/",
          "height": 449
        },
        "outputId": "60e0b366-8801-4104-8447-f3d3a2ff81bb"
      },
      "source": [
        "# Computing the Variance Inflation Factor, new df with inverse correlation\n",
        "\n",
        "pd.DataFrame(np.linalg.inv(correlations.values), index = correlations.index, columns=correlations.columns)\n",
        "\n"
      ],
      "execution_count": 65,
      "outputs": [
        {
          "output_type": "execute_result",
          "data": {
            "text/html": [
              "<div>\n",
              "<style scoped>\n",
              "    .dataframe tbody tr th:only-of-type {\n",
              "        vertical-align: middle;\n",
              "    }\n",
              "\n",
              "    .dataframe tbody tr th {\n",
              "        vertical-align: top;\n",
              "    }\n",
              "\n",
              "    .dataframe thead th {\n",
              "        text-align: right;\n",
              "    }\n",
              "</style>\n",
              "<table border=\"1\" class=\"dataframe\">\n",
              "  <thead>\n",
              "    <tr style=\"text-align: right;\">\n",
              "      <th></th>\n",
              "      <th>rank</th>\n",
              "      <th>total_points</th>\n",
              "      <th>previous_points</th>\n",
              "      <th>rank_change</th>\n",
              "      <th>cur_year_avg</th>\n",
              "      <th>cur_year_avg_weighted</th>\n",
              "      <th>last_year_avg</th>\n",
              "      <th>last_year_avg_weighted</th>\n",
              "      <th>two_year_ago_avg</th>\n",
              "      <th>two_year_ago_weighted</th>\n",
              "      <th>three_year_ago_avg</th>\n",
              "      <th>three_year_ago_weighted</th>\n",
              "      <th>away_score</th>\n",
              "    </tr>\n",
              "  </thead>\n",
              "  <tbody>\n",
              "    <tr>\n",
              "      <th>rank</th>\n",
              "      <td>2.401664e+00</td>\n",
              "      <td>1.173376e+03</td>\n",
              "      <td>1.854415e+00</td>\n",
              "      <td>1.388332e-01</td>\n",
              "      <td>-2.489791e+08</td>\n",
              "      <td>2.766522e+08</td>\n",
              "      <td>-1.211729e+02</td>\n",
              "      <td>-2.001090e+02</td>\n",
              "      <td>1.255934e+02</td>\n",
              "      <td>-3.058580e+02</td>\n",
              "      <td>1.595342e+02</td>\n",
              "      <td>-2.894151e+02</td>\n",
              "      <td>2.113355e-02</td>\n",
              "    </tr>\n",
              "    <tr>\n",
              "      <th>total_points</th>\n",
              "      <td>-2.206007e+03</td>\n",
              "      <td>1.304976e+10</td>\n",
              "      <td>1.268461e+03</td>\n",
              "      <td>3.353734e+02</td>\n",
              "      <td>-5.148507e+16</td>\n",
              "      <td>5.148506e+16</td>\n",
              "      <td>-2.072395e+09</td>\n",
              "      <td>-1.499774e+09</td>\n",
              "      <td>1.373996e+09</td>\n",
              "      <td>-3.394039e+09</td>\n",
              "      <td>-7.288526e+09</td>\n",
              "      <td>5.914530e+09</td>\n",
              "      <td>7.692643e+02</td>\n",
              "    </tr>\n",
              "    <tr>\n",
              "      <th>previous_points</th>\n",
              "      <td>1.854639e+00</td>\n",
              "      <td>-6.003761e+02</td>\n",
              "      <td>2.527103e+00</td>\n",
              "      <td>1.348316e-01</td>\n",
              "      <td>3.549958e+09</td>\n",
              "      <td>-3.551868e+09</td>\n",
              "      <td>-5.525118e+02</td>\n",
              "      <td>7.166674e+02</td>\n",
              "      <td>-6.328824e+01</td>\n",
              "      <td>1.561372e+02</td>\n",
              "      <td>3.586258e+02</td>\n",
              "      <td>-2.953169e+02</td>\n",
              "      <td>3.308099e-02</td>\n",
              "    </tr>\n",
              "    <tr>\n",
              "      <th>rank_change</th>\n",
              "      <td>1.383785e-01</td>\n",
              "      <td>9.459563e+02</td>\n",
              "      <td>1.350427e-01</td>\n",
              "      <td>1.010289e+00</td>\n",
              "      <td>-6.971962e+09</td>\n",
              "      <td>6.975952e+09</td>\n",
              "      <td>-8.743401e+01</td>\n",
              "      <td>-1.715316e+02</td>\n",
              "      <td>9.976661e+01</td>\n",
              "      <td>-2.460466e+02</td>\n",
              "      <td>-9.120935e+02</td>\n",
              "      <td>8.121371e+02</td>\n",
              "      <td>1.405272e-03</td>\n",
              "    </tr>\n",
              "    <tr>\n",
              "      <th>cur_year_avg</th>\n",
              "      <td>1.428222e+11</td>\n",
              "      <td>1.183811e+17</td>\n",
              "      <td>-8.684178e+10</td>\n",
              "      <td>4.174184e+10</td>\n",
              "      <td>2.167453e+24</td>\n",
              "      <td>-2.167453e+24</td>\n",
              "      <td>-1.116189e+16</td>\n",
              "      <td>-2.124231e+16</td>\n",
              "      <td>-1.316502e+17</td>\n",
              "      <td>1.133254e+17</td>\n",
              "      <td>2.527371e+17</td>\n",
              "      <td>-2.652021e+17</td>\n",
              "      <td>-6.837724e+10</td>\n",
              "    </tr>\n",
              "    <tr>\n",
              "      <th>cur_year_avg_weighted</th>\n",
              "      <td>-1.428222e+11</td>\n",
              "      <td>-1.183812e+17</td>\n",
              "      <td>8.684178e+10</td>\n",
              "      <td>-4.174184e+10</td>\n",
              "      <td>-2.167453e+24</td>\n",
              "      <td>2.167453e+24</td>\n",
              "      <td>1.116189e+16</td>\n",
              "      <td>2.124231e+16</td>\n",
              "      <td>1.316502e+17</td>\n",
              "      <td>-1.133254e+17</td>\n",
              "      <td>-2.527371e+17</td>\n",
              "      <td>2.652021e+17</td>\n",
              "      <td>6.837724e+10</td>\n",
              "    </tr>\n",
              "    <tr>\n",
              "      <th>last_year_avg</th>\n",
              "      <td>3.766961e+02</td>\n",
              "      <td>-1.923968e+09</td>\n",
              "      <td>-8.375988e+02</td>\n",
              "      <td>2.249424e+01</td>\n",
              "      <td>7.571997e+15</td>\n",
              "      <td>-7.571996e+15</td>\n",
              "      <td>2.321184e+09</td>\n",
              "      <td>-1.794527e+09</td>\n",
              "      <td>-2.025732e+08</td>\n",
              "      <td>5.003945e+08</td>\n",
              "      <td>1.082643e+09</td>\n",
              "      <td>-8.800697e+08</td>\n",
              "      <td>-2.572031e+02</td>\n",
              "    </tr>\n",
              "    <tr>\n",
              "      <th>last_year_avg_weighted</th>\n",
              "      <td>2.271129e+02</td>\n",
              "      <td>-1.648186e+09</td>\n",
              "      <td>4.901899e+02</td>\n",
              "      <td>-1.142970e+02</td>\n",
              "      <td>6.521155e+15</td>\n",
              "      <td>-6.521154e+15</td>\n",
              "      <td>-1.753900e+09</td>\n",
              "      <td>2.205064e+09</td>\n",
              "      <td>-1.735353e+08</td>\n",
              "      <td>4.286669e+08</td>\n",
              "      <td>9.124672e+08</td>\n",
              "      <td>-7.389319e+08</td>\n",
              "      <td>4.660028e+01</td>\n",
              "    </tr>\n",
              "    <tr>\n",
              "      <th>two_year_ago_avg</th>\n",
              "      <td>1.295896e+03</td>\n",
              "      <td>-7.692977e+08</td>\n",
              "      <td>-5.693032e+02</td>\n",
              "      <td>2.303281e+01</td>\n",
              "      <td>1.801409e+16</td>\n",
              "      <td>-1.801409e+16</td>\n",
              "      <td>1.645778e+08</td>\n",
              "      <td>4.600852e+07</td>\n",
              "      <td>-8.099335e+07</td>\n",
              "      <td>2.000774e+08</td>\n",
              "      <td>2.250444e+09</td>\n",
              "      <td>-2.169451e+09</td>\n",
              "      <td>-5.762100e+02</td>\n",
              "    </tr>\n",
              "    <tr>\n",
              "      <th>two_year_ago_weighted</th>\n",
              "      <td>-9.544182e+02</td>\n",
              "      <td>-1.250743e+09</td>\n",
              "      <td>3.729424e+02</td>\n",
              "      <td>-7.489002e+01</td>\n",
              "      <td>-1.004445e+16</td>\n",
              "      <td>1.004445e+16</td>\n",
              "      <td>1.562190e+08</td>\n",
              "      <td>1.861494e+08</td>\n",
              "      <td>-1.316947e+08</td>\n",
              "      <td>3.253036e+08</td>\n",
              "      <td>-1.122215e+09</td>\n",
              "      <td>1.253910e+09</td>\n",
              "      <td>4.571306e+02</td>\n",
              "    </tr>\n",
              "    <tr>\n",
              "      <th>three_year_ago_avg</th>\n",
              "      <td>4.728980e+02</td>\n",
              "      <td>-1.050803e+09</td>\n",
              "      <td>-2.273960e+02</td>\n",
              "      <td>-1.615622e+01</td>\n",
              "      <td>4.289431e+15</td>\n",
              "      <td>-4.289430e+15</td>\n",
              "      <td>1.776162e+08</td>\n",
              "      <td>1.100256e+08</td>\n",
              "      <td>-1.106367e+08</td>\n",
              "      <td>2.732962e+08</td>\n",
              "      <td>1.048049e+09</td>\n",
              "      <td>-9.374120e+08</td>\n",
              "      <td>-1.963719e+02</td>\n",
              "    </tr>\n",
              "    <tr>\n",
              "      <th>three_year_ago_weighted</th>\n",
              "      <td>-2.406544e+02</td>\n",
              "      <td>-3.232087e+08</td>\n",
              "      <td>9.383049e+01</td>\n",
              "      <td>-1.914242e+01</td>\n",
              "      <td>1.131427e+15</td>\n",
              "      <td>-1.131427e+15</td>\n",
              "      <td>4.058713e+07</td>\n",
              "      <td>4.788542e+07</td>\n",
              "      <td>-3.403164e+07</td>\n",
              "      <td>8.406274e+07</td>\n",
              "      <td>-2.806415e+08</td>\n",
              "      <td>3.146731e+08</td>\n",
              "      <td>1.153559e+02</td>\n",
              "    </tr>\n",
              "    <tr>\n",
              "      <th>away_score</th>\n",
              "      <td>2.120738e-02</td>\n",
              "      <td>-7.875236e+02</td>\n",
              "      <td>3.314355e-02</td>\n",
              "      <td>1.209150e-03</td>\n",
              "      <td>1.234502e+09</td>\n",
              "      <td>-1.234501e+09</td>\n",
              "      <td>-2.468473e+01</td>\n",
              "      <td>2.402262e+02</td>\n",
              "      <td>-8.289766e+01</td>\n",
              "      <td>2.048016e+02</td>\n",
              "      <td>8.289766e+01</td>\n",
              "      <td>0.000000e+00</td>\n",
              "      <td>1.001269e+00</td>\n",
              "    </tr>\n",
              "  </tbody>\n",
              "</table>\n",
              "</div>"
            ],
            "text/plain": [
              "                                 rank  ...    away_score\n",
              "rank                     2.401664e+00  ...  2.113355e-02\n",
              "total_points            -2.206007e+03  ...  7.692643e+02\n",
              "previous_points          1.854639e+00  ...  3.308099e-02\n",
              "rank_change              1.383785e-01  ...  1.405272e-03\n",
              "cur_year_avg             1.428222e+11  ... -6.837724e+10\n",
              "cur_year_avg_weighted   -1.428222e+11  ...  6.837724e+10\n",
              "last_year_avg            3.766961e+02  ... -2.572031e+02\n",
              "last_year_avg_weighted   2.271129e+02  ...  4.660028e+01\n",
              "two_year_ago_avg         1.295896e+03  ... -5.762100e+02\n",
              "two_year_ago_weighted   -9.544182e+02  ...  4.571306e+02\n",
              "three_year_ago_avg       4.728980e+02  ... -1.963719e+02\n",
              "three_year_ago_weighted -2.406544e+02  ...  1.153559e+02\n",
              "away_score               2.120738e-02  ...  1.001269e+00\n",
              "\n",
              "[13 rows x 13 columns]"
            ]
          },
          "metadata": {
            "tags": []
          },
          "execution_count": 65
        }
      ]
    },
    {
      "cell_type": "code",
      "metadata": {
        "id": "1DxERMmpeHk1",
        "colab_type": "code",
        "colab": {}
      },
      "source": [
        "# Residual Plots and Heteroscedasticity Test\n",
        "\n",
        "# Splitting our data into training and test sets\n",
        "\n",
        "from sklearn.model_selection import KFold, cross_val_score, train_test_split\n",
        "\n",
        "\n",
        "X = independent.values\n",
        "y = data['home_score'].values\n",
        "\n",
        "X_train, X_test, home_score_train, home_score_test = train_test_split(X, y, test_size=0.2, random_state=0)"
      ],
      "execution_count": 0,
      "outputs": []
    },
    {
      "cell_type": "code",
      "metadata": {
        "id": "f40gfAsBgxeq",
        "colab_type": "code",
        "colab": {
          "base_uri": "https://localhost:8080/",
          "height": 33
        },
        "outputId": "43e4d9af-ba69-4bce-f3ca-ad2477040fba"
      },
      "source": [
        "# Fitting our training data in our model\n",
        "from sklearn.linear_model import LinearRegression\n",
        "\n",
        "regressor = LinearRegression()\n",
        "regressor.fit(X_train, home_score_train)"
      ],
      "execution_count": 76,
      "outputs": [
        {
          "output_type": "execute_result",
          "data": {
            "text/plain": [
              "LinearRegression(copy_X=True, fit_intercept=True, n_jobs=None, normalize=False)"
            ]
          },
          "metadata": {
            "tags": []
          },
          "execution_count": 76
        }
      ]
    },
    {
      "cell_type": "code",
      "metadata": {
        "id": "RFKjyz0Vg1wh",
        "colab_type": "code",
        "colab": {}
      },
      "source": [
        "# This is our prediction for price based on our model\n",
        "home_score_predict = regressor.predict(X_test)"
      ],
      "execution_count": 0,
      "outputs": []
    },
    {
      "cell_type": "code",
      "metadata": {
        "id": "Tp66nPtBg7Vw",
        "colab_type": "code",
        "colab": {
          "base_uri": "https://localhost:8080/",
          "height": 282
        },
        "outputId": "3cc119fc-254a-4585-c5e6-52c97748e73c"
      },
      "source": [
        "# We create the residual by substracting the test value from the predicted value for each row in our dataset\n",
        "\n",
        "residuals = np.subtract(home_score_predict, home_score_test)\n",
        "\n",
        "# Let's describe our residual:\n",
        "x = pd.DataFrame(residuals).describe()\n",
        "x"
      ],
      "execution_count": 78,
      "outputs": [
        {
          "output_type": "execute_result",
          "data": {
            "text/html": [
              "<div>\n",
              "<style scoped>\n",
              "    .dataframe tbody tr th:only-of-type {\n",
              "        vertical-align: middle;\n",
              "    }\n",
              "\n",
              "    .dataframe tbody tr th {\n",
              "        vertical-align: top;\n",
              "    }\n",
              "\n",
              "    .dataframe thead th {\n",
              "        text-align: right;\n",
              "    }\n",
              "</style>\n",
              "<table border=\"1\" class=\"dataframe\">\n",
              "  <thead>\n",
              "    <tr style=\"text-align: right;\">\n",
              "      <th></th>\n",
              "      <th>0</th>\n",
              "    </tr>\n",
              "  </thead>\n",
              "  <tbody>\n",
              "    <tr>\n",
              "      <th>count</th>\n",
              "      <td>42553.000000</td>\n",
              "    </tr>\n",
              "    <tr>\n",
              "      <th>mean</th>\n",
              "      <td>-0.014239</td>\n",
              "    </tr>\n",
              "    <tr>\n",
              "      <th>std</th>\n",
              "      <td>1.985530</td>\n",
              "    </tr>\n",
              "    <tr>\n",
              "      <th>min</th>\n",
              "      <td>-29.188694</td>\n",
              "    </tr>\n",
              "    <tr>\n",
              "      <th>25%</th>\n",
              "      <td>-0.557170</td>\n",
              "    </tr>\n",
              "    <tr>\n",
              "      <th>50%</th>\n",
              "      <td>0.417890</td>\n",
              "    </tr>\n",
              "    <tr>\n",
              "      <th>75%</th>\n",
              "      <td>1.088978</td>\n",
              "    </tr>\n",
              "    <tr>\n",
              "      <th>max</th>\n",
              "      <td>3.129885</td>\n",
              "    </tr>\n",
              "  </tbody>\n",
              "</table>\n",
              "</div>"
            ],
            "text/plain": [
              "                  0\n",
              "count  42553.000000\n",
              "mean      -0.014239\n",
              "std        1.985530\n",
              "min      -29.188694\n",
              "25%       -0.557170\n",
              "50%        0.417890\n",
              "75%        1.088978\n",
              "max        3.129885"
            ]
          },
          "metadata": {
            "tags": []
          },
          "execution_count": 78
        }
      ]
    },
    {
      "cell_type": "code",
      "metadata": {
        "id": "bQqpFZWthGYY",
        "colab_type": "code",
        "colab": {
          "base_uri": "https://localhost:8080/",
          "height": 33
        },
        "outputId": "7ce6d61b-4277-40ab-ae5b-cd57d84a9685"
      },
      "source": [
        "# Getting the mean for the residuals\n",
        "residuals.mean()\n"
      ],
      "execution_count": 79,
      "outputs": [
        {
          "output_type": "execute_result",
          "data": {
            "text/plain": [
              "-0.014239021440189525"
            ]
          },
          "metadata": {
            "tags": []
          },
          "execution_count": 79
        }
      ]
    },
    {
      "cell_type": "code",
      "metadata": {
        "id": "wzydCDF1hKNd",
        "colab_type": "code",
        "colab": {}
      },
      "source": [
        "#The Residual Plot"
      ],
      "execution_count": 0,
      "outputs": []
    },
    {
      "cell_type": "code",
      "metadata": {
        "id": "S4jYsoVQhO4_",
        "colab_type": "code",
        "colab": {
          "base_uri": "https://localhost:8080/",
          "height": 606
        },
        "outputId": "e18f887f-f117-4a29-bf61-1e3f36e1b0e7"
      },
      "source": [
        "import matplotlib.pyplot as plt\n",
        "plt.figure(figsize = (10,10))\n",
        "plt.scatter(home_score_predict, residuals, color='black')\n",
        "plt.ylabel('residual')\n",
        "plt.xlabel('fitted values')\n",
        "plt.axhline(y= residuals.mean(), color='red', linewidth=1)\n",
        "plt.show()"
      ],
      "execution_count": 81,
      "outputs": [
        {
          "output_type": "display_data",
          "data": {
            "image/png": "[encoded data removed]",
            "text/plain": [
              "<Figure size 720x720 with 1 Axes>"
            ]
          },
          "metadata": {
            "tags": [],
            "needs_background": "light"
          }
        }
      ]
    },
    {
      "cell_type": "code",
      "metadata": {
        "id": "mZPh4TcihYBn",
        "colab_type": "code",
        "colab": {}
      },
      "source": [
        "#Barlett's Test of Heteroscedasticity"
      ],
      "execution_count": 0,
      "outputs": []
    },
    {
      "cell_type": "code",
      "metadata": {
        "id": "C6ULlOQmmOs6",
        "colab_type": "code",
        "colab": {
          "base_uri": "https://localhost:8080/",
          "height": 50
        },
        "outputId": "02aa7fc4-9c4b-4db5-94d7-26f3121589e8"
      },
      "source": [
        "import scipy as sp\n",
        "\n",
        "test_result, p_value = sp.stats.bartlett(home_score_predict, residuals)\n",
        "\n",
        "# We compute a critical value of the chi squared distribution\n",
        "degree_of_freedom = len(home_score_predict)-1\n",
        "probability = 1 - p_value\n",
        "\n",
        "critical_value = sp.stats.chi2.ppf(probability, degree_of_freedom)\n",
        "print(critical_value)\n",
        "\n",
        "# If the test_result is greater than the critical value, then we reject our null\n",
        "# hypothesis. This would mean that there are patterns to the variance of the data\n",
        "\n",
        "# Otherwise, we can identify no patterns, and we accept the null hypothesis that \n",
        "# the variance is homogeneous across our data\n",
        "\n",
        "if (test_result > critical_value):\n",
        "  print('the variances are unequal, and the model should be reassessed.')\n",
        "else:\n",
        "  print('The variances are homogeneous.')"
      ],
      "execution_count": 82,
      "outputs": [
        {
          "output_type": "stream",
          "text": [
            "inf\n",
            "The variances are homogeneous.\n"
          ],
          "name": "stdout"
        }
      ]
    },
    {
      "cell_type": "markdown",
      "metadata": {
        "id": "b3cbyyxydZOY",
        "colab_type": "text"
      },
      "source": [
        "> ### Polynomial Regression Analysis"
      ]
    },
    {
      "cell_type": "markdown",
      "metadata": {
        "id": "FbqayLgNdhEN",
        "colab_type": "text"
      },
      "source": [
        "Home goals"
      ]
    },
    {
      "cell_type": "code",
      "metadata": {
        "id": "NMaNRwKbdj_b",
        "colab_type": "code",
        "colab": {}
      },
      "source": [
        "# Defining our dataset\n",
        "\n",
        "y = data.home_score\n"
      ],
      "execution_count": 0,
      "outputs": []
    },
    {
      "cell_type": "code",
      "metadata": {
        "id": "2_ttuVvYgbEm",
        "colab_type": "code",
        "colab": {}
      },
      "source": [
        "X = data1\n",
        "\n"
      ],
      "execution_count": 0,
      "outputs": []
    },
    {
      "cell_type": "code",
      "metadata": {
        "id": "KI1XzDBNj2sv",
        "colab_type": "code",
        "outputId": "46a692c3-4b9b-4b54-fcfb-9978dea721a6",
        "colab": {
          "base_uri": "https://localhost:8080/",
          "height": 420
        }
      },
      "source": [
        "X"
      ],
      "execution_count": 85,
      "outputs": [
        {
          "output_type": "execute_result",
          "data": {
            "text/html": [
              "<div>\n",
              "<style scoped>\n",
              "    .dataframe tbody tr th:only-of-type {\n",
              "        vertical-align: middle;\n",
              "    }\n",
              "\n",
              "    .dataframe tbody tr th {\n",
              "        vertical-align: top;\n",
              "    }\n",
              "\n",
              "    .dataframe thead th {\n",
              "        text-align: right;\n",
              "    }\n",
              "</style>\n",
              "<table border=\"1\" class=\"dataframe\">\n",
              "  <thead>\n",
              "    <tr style=\"text-align: right;\">\n",
              "      <th></th>\n",
              "      <th>rank</th>\n",
              "      <th>total_points</th>\n",
              "      <th>previous_points</th>\n",
              "      <th>rank_change</th>\n",
              "      <th>cur_year_avg</th>\n",
              "      <th>cur_year_avg_weighted</th>\n",
              "      <th>last_year_avg</th>\n",
              "      <th>last_year_avg_weighted</th>\n",
              "      <th>two_year_ago_avg</th>\n",
              "      <th>two_year_ago_weighted</th>\n",
              "      <th>three_year_ago_avg</th>\n",
              "      <th>three_year_ago_weighted</th>\n",
              "      <th>away_score</th>\n",
              "    </tr>\n",
              "  </thead>\n",
              "  <tbody>\n",
              "    <tr>\n",
              "      <th>0</th>\n",
              "      <td>1</td>\n",
              "      <td>0.0</td>\n",
              "      <td>57</td>\n",
              "      <td>0</td>\n",
              "      <td>0.0</td>\n",
              "      <td>0.0</td>\n",
              "      <td>0.0</td>\n",
              "      <td>0.0</td>\n",
              "      <td>0.0</td>\n",
              "      <td>0.0</td>\n",
              "      <td>0.0</td>\n",
              "      <td>0.0</td>\n",
              "      <td>1</td>\n",
              "    </tr>\n",
              "    <tr>\n",
              "      <th>1</th>\n",
              "      <td>1</td>\n",
              "      <td>0.0</td>\n",
              "      <td>57</td>\n",
              "      <td>0</td>\n",
              "      <td>0.0</td>\n",
              "      <td>0.0</td>\n",
              "      <td>0.0</td>\n",
              "      <td>0.0</td>\n",
              "      <td>0.0</td>\n",
              "      <td>0.0</td>\n",
              "      <td>0.0</td>\n",
              "      <td>0.0</td>\n",
              "      <td>1</td>\n",
              "    </tr>\n",
              "    <tr>\n",
              "      <th>2</th>\n",
              "      <td>1</td>\n",
              "      <td>0.0</td>\n",
              "      <td>57</td>\n",
              "      <td>0</td>\n",
              "      <td>0.0</td>\n",
              "      <td>0.0</td>\n",
              "      <td>0.0</td>\n",
              "      <td>0.0</td>\n",
              "      <td>0.0</td>\n",
              "      <td>0.0</td>\n",
              "      <td>0.0</td>\n",
              "      <td>0.0</td>\n",
              "      <td>0</td>\n",
              "    </tr>\n",
              "    <tr>\n",
              "      <th>3</th>\n",
              "      <td>1</td>\n",
              "      <td>0.0</td>\n",
              "      <td>57</td>\n",
              "      <td>0</td>\n",
              "      <td>0.0</td>\n",
              "      <td>0.0</td>\n",
              "      <td>0.0</td>\n",
              "      <td>0.0</td>\n",
              "      <td>0.0</td>\n",
              "      <td>0.0</td>\n",
              "      <td>0.0</td>\n",
              "      <td>0.0</td>\n",
              "      <td>0</td>\n",
              "    </tr>\n",
              "    <tr>\n",
              "      <th>4</th>\n",
              "      <td>1</td>\n",
              "      <td>0.0</td>\n",
              "      <td>57</td>\n",
              "      <td>0</td>\n",
              "      <td>0.0</td>\n",
              "      <td>0.0</td>\n",
              "      <td>0.0</td>\n",
              "      <td>0.0</td>\n",
              "      <td>0.0</td>\n",
              "      <td>0.0</td>\n",
              "      <td>0.0</td>\n",
              "      <td>0.0</td>\n",
              "      <td>3</td>\n",
              "    </tr>\n",
              "    <tr>\n",
              "      <th>...</th>\n",
              "      <td>...</td>\n",
              "      <td>...</td>\n",
              "      <td>...</td>\n",
              "      <td>...</td>\n",
              "      <td>...</td>\n",
              "      <td>...</td>\n",
              "      <td>...</td>\n",
              "      <td>...</td>\n",
              "      <td>...</td>\n",
              "      <td>...</td>\n",
              "      <td>...</td>\n",
              "      <td>...</td>\n",
              "      <td>...</td>\n",
              "    </tr>\n",
              "    <tr>\n",
              "      <th>212826</th>\n",
              "      <td>206</td>\n",
              "      <td>0.0</td>\n",
              "      <td>0</td>\n",
              "      <td>1</td>\n",
              "      <td>0.0</td>\n",
              "      <td>0.0</td>\n",
              "      <td>0.0</td>\n",
              "      <td>0.0</td>\n",
              "      <td>0.0</td>\n",
              "      <td>0.0</td>\n",
              "      <td>0.0</td>\n",
              "      <td>0.0</td>\n",
              "      <td>0</td>\n",
              "    </tr>\n",
              "    <tr>\n",
              "      <th>212827</th>\n",
              "      <td>206</td>\n",
              "      <td>0.0</td>\n",
              "      <td>0</td>\n",
              "      <td>1</td>\n",
              "      <td>0.0</td>\n",
              "      <td>0.0</td>\n",
              "      <td>0.0</td>\n",
              "      <td>0.0</td>\n",
              "      <td>0.0</td>\n",
              "      <td>0.0</td>\n",
              "      <td>0.0</td>\n",
              "      <td>0.0</td>\n",
              "      <td>5</td>\n",
              "    </tr>\n",
              "    <tr>\n",
              "      <th>212828</th>\n",
              "      <td>206</td>\n",
              "      <td>0.0</td>\n",
              "      <td>0</td>\n",
              "      <td>1</td>\n",
              "      <td>0.0</td>\n",
              "      <td>0.0</td>\n",
              "      <td>0.0</td>\n",
              "      <td>0.0</td>\n",
              "      <td>0.0</td>\n",
              "      <td>0.0</td>\n",
              "      <td>0.0</td>\n",
              "      <td>0.0</td>\n",
              "      <td>0</td>\n",
              "    </tr>\n",
              "    <tr>\n",
              "      <th>212829</th>\n",
              "      <td>206</td>\n",
              "      <td>0.0</td>\n",
              "      <td>0</td>\n",
              "      <td>1</td>\n",
              "      <td>0.0</td>\n",
              "      <td>0.0</td>\n",
              "      <td>0.0</td>\n",
              "      <td>0.0</td>\n",
              "      <td>0.0</td>\n",
              "      <td>0.0</td>\n",
              "      <td>0.0</td>\n",
              "      <td>0.0</td>\n",
              "      <td>2</td>\n",
              "    </tr>\n",
              "    <tr>\n",
              "      <th>212830</th>\n",
              "      <td>206</td>\n",
              "      <td>0.0</td>\n",
              "      <td>0</td>\n",
              "      <td>1</td>\n",
              "      <td>0.0</td>\n",
              "      <td>0.0</td>\n",
              "      <td>0.0</td>\n",
              "      <td>0.0</td>\n",
              "      <td>0.0</td>\n",
              "      <td>0.0</td>\n",
              "      <td>0.0</td>\n",
              "      <td>0.0</td>\n",
              "      <td>2</td>\n",
              "    </tr>\n",
              "  </tbody>\n",
              "</table>\n",
              "<p>212765 rows × 13 columns</p>\n",
              "</div>"
            ],
            "text/plain": [
              "        rank  total_points  ...  three_year_ago_weighted  away_score\n",
              "0          1           0.0  ...                      0.0           1\n",
              "1          1           0.0  ...                      0.0           1\n",
              "2          1           0.0  ...                      0.0           0\n",
              "3          1           0.0  ...                      0.0           0\n",
              "4          1           0.0  ...                      0.0           3\n",
              "...      ...           ...  ...                      ...         ...\n",
              "212826   206           0.0  ...                      0.0           0\n",
              "212827   206           0.0  ...                      0.0           5\n",
              "212828   206           0.0  ...                      0.0           0\n",
              "212829   206           0.0  ...                      0.0           2\n",
              "212830   206           0.0  ...                      0.0           2\n",
              "\n",
              "[212765 rows x 13 columns]"
            ]
          },
          "metadata": {
            "tags": []
          },
          "execution_count": 85
        }
      ]
    },
    {
      "cell_type": "code",
      "metadata": {
        "id": "Fr8kcQEXg99K",
        "colab_type": "code",
        "colab": {}
      },
      "source": [
        "# Splitting the dataset into the Training set and Test set\n",
        "from sklearn.model_selection import train_test_split \n",
        "X_train, X_test, y_train, y_test = train_test_split(X, y, test_size=0.2, random_state=0)\n",
        "#test_size=0.2: we will split our dataset (10 observations) into 2 parts (training set, test set) and the ratio of test set compare to dataset is 0.2 \n",
        "# (2 observations will be put into the test set. You can put it 1/5 to get 20% or 0.2, they are the same. We should not let the test set too big; if \n",
        "# it’s too big, we will lack of data to train. Normally, we should pick around 5% to 30%."
      ],
      "execution_count": 0,
      "outputs": []
    },
    {
      "cell_type": "code",
      "metadata": {
        "id": "oWJucTyynGht",
        "colab_type": "code",
        "colab": {}
      },
      "source": [
        "#standardize our data\n",
        "\n",
        "from sklearn.preprocessing import StandardScaler\n",
        "sc= StandardScaler()\n",
        "X_train = sc.fit_transform(X_train)\n",
        "X_test = sc.fit_transform(X_test)"
      ],
      "execution_count": 0,
      "outputs": []
    },
    {
      "cell_type": "code",
      "metadata": {
        "id": "W0z7O2qahamK",
        "colab_type": "code",
        "outputId": "b26e67f3-30cf-48cd-af1f-6638fd967f14",
        "colab": {
          "base_uri": "https://localhost:8080/",
          "height": 33
        }
      },
      "source": [
        "# We will first apply linear Regression model to our data\n",
        "\n",
        "from sklearn.linear_model import  LinearRegression\n",
        "regressor = LinearRegression()\n",
        "regressor.fit(X_train,  y_train)"
      ],
      "execution_count": 89,
      "outputs": [
        {
          "output_type": "execute_result",
          "data": {
            "text/plain": [
              "LinearRegression(copy_X=True, fit_intercept=True, n_jobs=None, normalize=False)"
            ]
          },
          "metadata": {
            "tags": []
          },
          "execution_count": 89
        }
      ]
    },
    {
      "cell_type": "code",
      "metadata": {
        "id": "gHCNArrHnfRc",
        "colab_type": "code",
        "colab": {
          "base_uri": "https://localhost:8080/",
          "height": 429
        },
        "outputId": "87468969-7b25-4cf3-f442-ef805ef39d2b"
      },
      "source": [
        "#checking coefficients of linear regration\n",
        "\n",
        "coef = pd.DataFrame(regressor.coef_, X.columns, columns = ['coefficients'])\n",
        "\n",
        "coef.sort_values(by = ['coefficients'], ascending = False)"
      ],
      "execution_count": 90,
      "outputs": [
        {
          "output_type": "execute_result",
          "data": {
            "text/html": [
              "<div>\n",
              "<style scoped>\n",
              "    .dataframe tbody tr th:only-of-type {\n",
              "        vertical-align: middle;\n",
              "    }\n",
              "\n",
              "    .dataframe tbody tr th {\n",
              "        vertical-align: top;\n",
              "    }\n",
              "\n",
              "    .dataframe thead th {\n",
              "        text-align: right;\n",
              "    }\n",
              "</style>\n",
              "<table border=\"1\" class=\"dataframe\">\n",
              "  <thead>\n",
              "    <tr style=\"text-align: right;\">\n",
              "      <th></th>\n",
              "      <th>coefficients</th>\n",
              "    </tr>\n",
              "  </thead>\n",
              "  <tbody>\n",
              "    <tr>\n",
              "      <th>cur_year_avg</th>\n",
              "      <td>872.257910</td>\n",
              "    </tr>\n",
              "    <tr>\n",
              "      <th>cur_year_avg_weighted</th>\n",
              "      <td>872.257910</td>\n",
              "    </tr>\n",
              "    <tr>\n",
              "      <th>two_year_ago_avg</th>\n",
              "      <td>579.527716</td>\n",
              "    </tr>\n",
              "    <tr>\n",
              "      <th>last_year_avg_weighted</th>\n",
              "      <td>461.424185</td>\n",
              "    </tr>\n",
              "    <tr>\n",
              "      <th>last_year_avg</th>\n",
              "      <td>455.944822</td>\n",
              "    </tr>\n",
              "    <tr>\n",
              "      <th>three_year_ago_weighted</th>\n",
              "      <td>380.968485</td>\n",
              "    </tr>\n",
              "    <tr>\n",
              "      <th>rank_change</th>\n",
              "      <td>-0.003318</td>\n",
              "    </tr>\n",
              "    <tr>\n",
              "      <th>rank</th>\n",
              "      <td>-0.010942</td>\n",
              "    </tr>\n",
              "    <tr>\n",
              "      <th>previous_points</th>\n",
              "      <td>-0.052048</td>\n",
              "    </tr>\n",
              "    <tr>\n",
              "      <th>away_score</th>\n",
              "      <td>-0.286593</td>\n",
              "    </tr>\n",
              "    <tr>\n",
              "      <th>three_year_ago_avg</th>\n",
              "      <td>-27.499627</td>\n",
              "    </tr>\n",
              "    <tr>\n",
              "      <th>two_year_ago_weighted</th>\n",
              "      <td>-61.054940</td>\n",
              "    </tr>\n",
              "    <tr>\n",
              "      <th>total_points</th>\n",
              "      <td>-3351.071718</td>\n",
              "    </tr>\n",
              "  </tbody>\n",
              "</table>\n",
              "</div>"
            ],
            "text/plain": [
              "                         coefficients\n",
              "cur_year_avg               872.257910\n",
              "cur_year_avg_weighted      872.257910\n",
              "two_year_ago_avg           579.527716\n",
              "last_year_avg_weighted     461.424185\n",
              "last_year_avg              455.944822\n",
              "three_year_ago_weighted    380.968485\n",
              "rank_change                 -0.003318\n",
              "rank                        -0.010942\n",
              "previous_points             -0.052048\n",
              "away_score                  -0.286593\n",
              "three_year_ago_avg         -27.499627\n",
              "two_year_ago_weighted      -61.054940\n",
              "total_points             -3351.071718"
            ]
          },
          "metadata": {
            "tags": []
          },
          "execution_count": 90
        }
      ]
    },
    {
      "cell_type": "code",
      "metadata": {
        "id": "JoVbJOfunv6j",
        "colab_type": "code",
        "colab": {}
      },
      "source": [
        "#making predictions using our model\n",
        "\n",
        "y_pred = regressor.predict(X_test)"
      ],
      "execution_count": 0,
      "outputs": []
    },
    {
      "cell_type": "code",
      "metadata": {
        "id": "fgdAwBIBn1yg",
        "colab_type": "code",
        "colab": {
          "base_uri": "https://localhost:8080/",
          "height": 282
        },
        "outputId": "8340b366-404f-4f61-b691-d57d007bf62e"
      },
      "source": [
        "# Describing both our predicted and actual values\n",
        "\n",
        "comparison_frame = pd.DataFrame({'Actual':y_test, 'predicted':y_pred.flatten()})\n",
        "\n",
        "comparison_frame.describe()"
      ],
      "execution_count": 92,
      "outputs": [
        {
          "output_type": "execute_result",
          "data": {
            "text/html": [
              "<div>\n",
              "<style scoped>\n",
              "    .dataframe tbody tr th:only-of-type {\n",
              "        vertical-align: middle;\n",
              "    }\n",
              "\n",
              "    .dataframe tbody tr th {\n",
              "        vertical-align: top;\n",
              "    }\n",
              "\n",
              "    .dataframe thead th {\n",
              "        text-align: right;\n",
              "    }\n",
              "</style>\n",
              "<table border=\"1\" class=\"dataframe\">\n",
              "  <thead>\n",
              "    <tr style=\"text-align: right;\">\n",
              "      <th></th>\n",
              "      <th>Actual</th>\n",
              "      <th>predicted</th>\n",
              "    </tr>\n",
              "  </thead>\n",
              "  <tbody>\n",
              "    <tr>\n",
              "      <th>count</th>\n",
              "      <td>42553.000000</td>\n",
              "      <td>42553.000000</td>\n",
              "    </tr>\n",
              "    <tr>\n",
              "      <th>mean</th>\n",
              "      <td>1.693676</td>\n",
              "      <td>1.679188</td>\n",
              "    </tr>\n",
              "    <tr>\n",
              "      <th>std</th>\n",
              "      <td>2.011214</td>\n",
              "      <td>3.029450</td>\n",
              "    </tr>\n",
              "    <tr>\n",
              "      <th>min</th>\n",
              "      <td>0.000000</td>\n",
              "      <td>-44.699648</td>\n",
              "    </tr>\n",
              "    <tr>\n",
              "      <th>25%</th>\n",
              "      <td>0.000000</td>\n",
              "      <td>2.077473</td>\n",
              "    </tr>\n",
              "    <tr>\n",
              "      <th>50%</th>\n",
              "      <td>1.000000</td>\n",
              "      <td>2.312091</td>\n",
              "    </tr>\n",
              "    <tr>\n",
              "      <th>75%</th>\n",
              "      <td>2.000000</td>\n",
              "      <td>2.511389</td>\n",
              "    </tr>\n",
              "    <tr>\n",
              "      <th>max</th>\n",
              "      <td>31.000000</td>\n",
              "      <td>18.093893</td>\n",
              "    </tr>\n",
              "  </tbody>\n",
              "</table>\n",
              "</div>"
            ],
            "text/plain": [
              "             Actual     predicted\n",
              "count  42553.000000  42553.000000\n",
              "mean       1.693676      1.679188\n",
              "std        2.011214      3.029450\n",
              "min        0.000000    -44.699648\n",
              "25%        0.000000      2.077473\n",
              "50%        1.000000      2.312091\n",
              "75%        2.000000      2.511389\n",
              "max       31.000000     18.093893"
            ]
          },
          "metadata": {
            "tags": []
          },
          "execution_count": 92
        }
      ]
    },
    {
      "cell_type": "code",
      "metadata": {
        "id": "QvuKgsbkn9Dc",
        "colab_type": "code",
        "colab": {
          "base_uri": "https://localhost:8080/",
          "height": 33
        },
        "outputId": "e5286952-178e-45b4-9ac9-8a02d2fc803a"
      },
      "source": [
        "# Calculating the accuracy of our model\n",
        "from sklearn import metrics\n",
        "\n",
        "print('Accuracy:', regressor.score(X_test, y_test))\n",
        "\n",
        "# our predictions is not accurate"
      ],
      "execution_count": 94,
      "outputs": [
        {
          "output_type": "stream",
          "text": [
            "Accuracy: -2.3876859085573963\n"
          ],
          "name": "stdout"
        }
      ]
    },
    {
      "cell_type": "code",
      "metadata": {
        "id": "ZA9Gd42doJ4V",
        "colab_type": "code",
        "colab": {
          "base_uri": "https://localhost:8080/",
          "height": 33
        },
        "outputId": "2a6bf9de-60f7-427d-91af-5d25a92f5d77"
      },
      "source": [
        "# How often is our classiffier correct\n",
        "\n",
        "print('RMSE:', np.sqrt(metrics.mean_absolute_error(y_test, y_pred)))\n",
        "\n",
        "# from the RMSE we can see that our model is not very accurate \n",
        "# We'll perform other operations to imporove our model"
      ],
      "execution_count": 95,
      "outputs": [
        {
          "output_type": "stream",
          "text": [
            "RMSE: 1.4199026585803614\n"
          ],
          "name": "stdout"
        }
      ]
    },
    {
      "cell_type": "code",
      "metadata": {
        "id": "RYifbPHRkcAv",
        "colab_type": "code",
        "outputId": "e2cbfca0-295b-49e0-f3ce-23806c1356f1",
        "colab": {
          "base_uri": "https://localhost:8080/",
          "height": 33
        }
      },
      "source": [
        "X.shape"
      ],
      "execution_count": 0,
      "outputs": [
        {
          "output_type": "execute_result",
          "data": {
            "text/plain": [
              "(212765, 12)"
            ]
          },
          "metadata": {
            "tags": []
          },
          "execution_count": 36
        }
      ]
    },
    {
      "cell_type": "code",
      "metadata": {
        "id": "kBQ2dbflke7j",
        "colab_type": "code",
        "outputId": "e760df51-3806-4f4b-868c-3ece8c564de9",
        "colab": {
          "base_uri": "https://localhost:8080/",
          "height": 33
        }
      },
      "source": [
        "y.shape"
      ],
      "execution_count": 0,
      "outputs": [
        {
          "output_type": "execute_result",
          "data": {
            "text/plain": [
              "(212765,)"
            ]
          },
          "metadata": {
            "tags": []
          },
          "execution_count": 37
        }
      ]
    },
    {
      "cell_type": "code",
      "metadata": {
        "id": "GztMQO0_0iuz",
        "colab_type": "code",
        "outputId": "f96fe5e3-c492-4921-c1e8-e1eb2b1ddc34",
        "colab": {
          "base_uri": "https://localhost:8080/",
          "height": 100
        }
      },
      "source": [
        "X.columns"
      ],
      "execution_count": 0,
      "outputs": [
        {
          "output_type": "execute_result",
          "data": {
            "text/plain": [
              "Index(['rank', 'total_points', 'previous_points', 'rank_change',\n",
              "       'cur_year_avg', 'cur_year_avg_weighted', 'last_year_avg',\n",
              "       'last_year_avg_weighted', 'two_year_ago_avg', 'two_year_ago_weighted',\n",
              "       'three_year_ago_avg', 'three_year_ago_weighted'],\n",
              "      dtype='object')"
            ]
          },
          "metadata": {
            "tags": []
          },
          "execution_count": 38
        }
      ]
    },
    {
      "cell_type": "code",
      "metadata": {
        "id": "3DLRzzuwomLG",
        "colab_type": "code",
        "colab": {
          "base_uri": "https://localhost:8080/",
          "height": 33
        },
        "outputId": "b90c5d55-eb87-4be7-c518-caf6364df72d"
      },
      "source": [
        "# Import Polynomial model\n",
        "# We will only include fields which have a positive correlation coefficieent\n",
        "# As they can explain the model on there own\n",
        "\n",
        "from sklearn.preprocessing import PolynomialFeatures\n",
        "\n",
        "\n",
        "X = data1\n",
        "y = data.home_score\n",
        "\n",
        "\n",
        "# We will split our dataframe into train and test\n",
        "from sklearn.model_selection import train_test_split\n",
        "\n",
        "X_train, X_test, y_train, y_test = train_test_split(X,y, test_size = 0.2, random_state= 50)\n",
        "\n",
        "\n",
        "#standardize our data\n",
        "\n",
        "from sklearn.preprocessing import StandardScaler\n",
        "sc= StandardScaler()\n",
        "X_train = sc.fit_transform(X_train)\n",
        "X_test = sc.fit_transform(X_test)\n",
        "\n",
        "#import polynomial model\n",
        "from sklearn.preprocessing import PolynomialFeatures\n",
        "\n",
        "# Fit polynomial Regression to the dataset\n",
        "\n",
        "poly_reg = PolynomialFeatures(degree = 4) \n",
        "X_poly = poly_reg.fit_transform(X_train)\n",
        "\n",
        "\n",
        "pol_reg = LinearRegression()\n",
        "pol_reg.fit(X_poly, y_train)\n",
        "\n",
        "\n",
        "y_pred = pol_reg.predict(poly_reg.fit_transform(X_test))\n",
        "\n",
        "from sklearn import metrics\n",
        "# print(metrics.accuracy_score(y_test, y_pred))\n",
        "print(np.sqrt(metrics.mean_squared_error(y_test, y_pred)))\n",
        "# #from the model created we can see that the RMSE value has impoved as compared to LR\n",
        "\n",
        "# # But the model created has a high RMSES hence might not be very accurate in predicting goals scored.\n"
      ],
      "execution_count": 97,
      "outputs": [
        {
          "output_type": "stream",
          "text": [
            "81395.74488608762\n"
          ],
          "name": "stdout"
        }
      ]
    },
    {
      "cell_type": "markdown",
      "metadata": {
        "id": "oZ78Vh8gqRuo",
        "colab_type": "text"
      },
      "source": [
        "### Logistic Regression"
      ]
    },
    {
      "cell_type": "code",
      "metadata": {
        "id": "3qdrwGoDp-0d",
        "colab_type": "code",
        "colab": {}
      },
      "source": [
        "X = data1\n",
        "y = data.home_score\n",
        "\n",
        "# We will split our dataframe into train and test\n",
        "\n",
        "from sklearn.model_selection import train_test_split\n",
        "X_train, X_test, y_train, y_test = train_test_split(X,y, test_size = 0.2, random_state= 0)"
      ],
      "execution_count": 0,
      "outputs": []
    },
    {
      "cell_type": "code",
      "metadata": {
        "id": "88dOzS3sqZIb",
        "colab_type": "code",
        "colab": {}
      },
      "source": [
        "#standardize our data\n",
        "\n",
        "from sklearn.preprocessing import StandardScaler\n",
        "sc= StandardScaler()\n",
        "X_train = sc.fit_transform(X_train)\n",
        "X_test = sc.fit_transform(X_test)"
      ],
      "execution_count": 0,
      "outputs": []
    },
    {
      "cell_type": "code",
      "metadata": {
        "id": "r4mhBYxnqc-4",
        "colab_type": "code",
        "colab": {}
      },
      "source": [
        "# Creating the logistic regression model\n",
        "\n",
        "from sklearn.linear_model import LogisticRegression\n",
        "logistic = LogisticRegression()\n",
        "\n"
      ],
      "execution_count": 0,
      "outputs": []
    },
    {
      "cell_type": "code",
      "metadata": {
        "id": "EPXKZdkaqfz0",
        "colab_type": "code",
        "colab": {}
      },
      "source": [
        "# Creating regularization penalty space\n",
        "penalty = ['l1', 'l2']\n"
      ],
      "execution_count": 0,
      "outputs": []
    },
    {
      "cell_type": "code",
      "metadata": {
        "id": "bHDaWlvuqlJi",
        "colab_type": "code",
        "colab": {}
      },
      "source": [
        "# # Creating regularization hyperparameter space\n",
        "C = np.logspace(0.1, 1, 10, 100, 1000)"
      ],
      "execution_count": 0,
      "outputs": []
    },
    {
      "cell_type": "code",
      "metadata": {
        "id": "iW8zDXHZqplU",
        "colab_type": "code",
        "colab": {}
      },
      "source": [
        "# # Creating hyperparameter options\n",
        "hyperparameters = dict(C=C, penalty = penalty)"
      ],
      "execution_count": 0,
      "outputs": []
    },
    {
      "cell_type": "code",
      "metadata": {
        "id": "T-gXQkfGqsOk",
        "colab_type": "code",
        "colab": {}
      },
      "source": [
        "# Training and Cross Validation\n",
        "from sklearn.model_selection import cross_val_score\n",
        "all_accuracies = cross_val_score(estimator=logistic, X=X_train, y=y_train, cv=5)"
      ],
      "execution_count": 0,
      "outputs": []
    },
    {
      "cell_type": "code",
      "metadata": {
        "id": "kQ67eb0Pqvj7",
        "colab_type": "code",
        "colab": {}
      },
      "source": [
        "# Creating grid search using 5-fold cross validation\n",
        "from sklearn.model_selection import GridSearchCV\n",
        "gr_sr  = GridSearchCV(estimator = logistic, param_grid = hyperparameters, scoring = 'accuracy' ,cv=5, verbose=0, n_jobs=-1)\n"
      ],
      "execution_count": 0,
      "outputs": []
    },
    {
      "cell_type": "code",
      "metadata": {
        "id": "Z0j4izgOqwrC",
        "colab_type": "code",
        "colab": {}
      },
      "source": [
        "#Calling the fit method\n",
        "gr_sr.fit(X_train, y_train)\n"
      ],
      "execution_count": 0,
      "outputs": []
    },
    {
      "cell_type": "code",
      "metadata": {
        "id": "NLIwgqUfqzcv",
        "colab_type": "code",
        "colab": {}
      },
      "source": [
        "# Checking the parameters that return the highest accuracy\n",
        "# To do so, we print the sr.best_params_ attribute of the GridSearchCV object, as shown below:\n",
        "best_parameters = gr_sr.best_params_\n",
        "print(best_parameters)\n"
      ],
      "execution_count": 0,
      "outputs": []
    },
    {
      "cell_type": "code",
      "metadata": {
        "id": "sXM-_wxWq2LN",
        "colab_type": "code",
        "colab": {}
      },
      "source": [
        "#Finding the obtained accuracy\n",
        "best_result = gr_sr.best_score_\n",
        "print('accuracy=', best_result)"
      ],
      "execution_count": 0,
      "outputs": []
    },
    {
      "cell_type": "code",
      "metadata": {
        "id": "4Xfja5akq7OK",
        "colab_type": "code",
        "colab": {}
      },
      "source": [
        "# #Initiate logistic regression with the calculated hyper parameters\n",
        "# # fit data to logistic regression\n",
        "# logistic = LogisticRegression(C= XXXXXXXXXXXXX, penalty= 'XX' )\n",
        "# logistic.fit(X_train, y_train)\n"
      ],
      "execution_count": 0,
      "outputs": []
    },
    {
      "cell_type": "code",
      "metadata": {
        "id": "CwsGFzyxrBj_",
        "colab_type": "code",
        "colab": {}
      },
      "source": [
        "# #use our model to predict\n",
        "# y_pred = logistic.predict(X_test)\n",
        "# #Test our model"
      ],
      "execution_count": 0,
      "outputs": []
    },
    {
      "cell_type": "code",
      "metadata": {
        "id": "jR001834rF3I",
        "colab_type": "code",
        "colab": {}
      },
      "source": [
        "# from sklearn.metrics import confusion_matrix\n",
        "\n",
        "# con = confusion_matrix(y_test, y_pred)\n",
        "# print(con)\n",
        "# print(metrics.r2_score(y_test, y_pred))\n",
        "\n",
        "# # The logistic model, has been able to predict, xxxxxxxxxxxx correct predictions"
      ],
      "execution_count": 0,
      "outputs": []
    }
  ]
}